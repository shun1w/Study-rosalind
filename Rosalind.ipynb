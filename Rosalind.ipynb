{
 "cells": [
  {
   "cell_type": "code",
   "execution_count": 1,
   "id": "31f0fae5-94fb-4b11-8a84-2f95e238229c",
   "metadata": {
    "tags": []
   },
   "outputs": [
    {
     "name": "stdout",
     "output_type": "stream",
     "text": [
      "The Zen of Python, by Tim Peters\n",
      "\n",
      "Beautiful is better than ugly.\n",
      "Explicit is better than implicit.\n",
      "Simple is better than complex.\n",
      "Complex is better than complicated.\n",
      "Flat is better than nested.\n",
      "Sparse is better than dense.\n",
      "Readability counts.\n",
      "Special cases aren't special enough to break the rules.\n",
      "Although practicality beats purity.\n",
      "Errors should never pass silently.\n",
      "Unless explicitly silenced.\n",
      "In the face of ambiguity, refuse the temptation to guess.\n",
      "There should be one-- and preferably only one --obvious way to do it.\n",
      "Although that way may not be obvious at first unless you're Dutch.\n",
      "Now is better than never.\n",
      "Although never is often better than *right* now.\n",
      "If the implementation is hard to explain, it's a bad idea.\n",
      "If the implementation is easy to explain, it may be a good idea.\n",
      "Namespaces are one honking great idea -- let's do more of those!\n"
     ]
    }
   ],
   "source": [
    "import this"
   ]
  },
  {
   "cell_type": "markdown",
   "id": "b42f0df9-69a0-45a0-84a7-8fd33d73bd10",
   "metadata": {},
   "source": [
    "## Count DNA nucleotide"
   ]
  },
  {
   "cell_type": "markdown",
   "id": "edbfca93-10b7-4ac2-89b3-93d1d3cb434a",
   "metadata": {},
   "source": [
    "### sample1"
   ]
  },
  {
   "cell_type": "code",
   "execution_count": 2,
   "id": "338fc606-5ae8-4847-ad77-14a55bb6361a",
   "metadata": {
    "tags": []
   },
   "outputs": [],
   "source": [
    "dna = \"AGCTTTTCATTCTGACTGCAACGGGCAATATGTCTCTGTGTGGATTAAAAAAAGAGTGTCTGATAGCAGC\"\n",
    "A = 0\n",
    "C = 0\n",
    "G = 0\n",
    "T = 0\n",
    "for alpha in dna:\n",
    "    if alpha == 'A':\n",
    "        A += 1\n",
    "    elif alpha == 'C':\n",
    "        C += 1\n",
    "    elif alpha == 'G':\n",
    "        G += 1\n",
    "    elif alpha == 'T':\n",
    "        T += 1"
   ]
  },
  {
   "cell_type": "code",
   "execution_count": 3,
   "id": "decdd600-8026-45dc-9851-c11552eeaeaf",
   "metadata": {
    "tags": []
   },
   "outputs": [
    {
     "name": "stdout",
     "output_type": "stream",
     "text": [
      "20 12 17 21\n"
     ]
    }
   ],
   "source": [
    "print(A, C,G,T)"
   ]
  },
  {
   "cell_type": "markdown",
   "id": "8b6400ac-8c6e-49bd-95b7-df4ddebd5d05",
   "metadata": {},
   "source": [
    "### sample2"
   ]
  },
  {
   "cell_type": "code",
   "execution_count": 4,
   "id": "b49e3111-ebe1-4170-bb1e-20e80000c15b",
   "metadata": {
    "tags": []
   },
   "outputs": [],
   "source": [
    "from collections import Counter"
   ]
  },
  {
   "cell_type": "code",
   "execution_count": 13,
   "id": "3dc431ec-11fb-4e62-9a5e-1c64e2ee6f56",
   "metadata": {
    "tags": []
   },
   "outputs": [
    {
     "data": {
      "text/plain": [
       "[('A', 20), ('C', 12), ('G', 17), ('T', 21)]"
      ]
     },
     "execution_count": 13,
     "metadata": {},
     "output_type": "execute_result"
    }
   ],
   "source": [
    "sorted(Counter(dna).items())"
   ]
  },
  {
   "cell_type": "markdown",
   "id": "6ef81771-71a9-4ada-aeeb-549d5d67a023",
   "metadata": {},
   "source": [
    "### Apply to data\n",
    "- using sample 2"
   ]
  },
  {
   "cell_type": "code",
   "execution_count": 17,
   "id": "35589fc0-0131-4739-afd2-4e10c9814ea8",
   "metadata": {
    "tags": []
   },
   "outputs": [],
   "source": [
    "f = open(\"rosalind_dna.txt\",'r')"
   ]
  },
  {
   "cell_type": "code",
   "execution_count": 19,
   "id": "6597b07d-63ef-44cf-936f-2e1541e5c581",
   "metadata": {
    "tags": []
   },
   "outputs": [],
   "source": [
    "data = f.read()"
   ]
  },
  {
   "cell_type": "code",
   "execution_count": 20,
   "id": "88bb633b-2776-45b2-b5c3-41615cbea719",
   "metadata": {
    "tags": []
   },
   "outputs": [
    {
     "data": {
      "text/plain": [
       "'ACTGTGCGTGGCGACAGTTTGAATTGTGGGAGGTGAGATCTTCGGACCTCCAGTAGCTGGGCTCCCATCACGAGTAGAGTTGCTTCTGACCACGTCGTCTGACACCATATCTTCCTATCGTAACTGGGATTGGCGGATGTAAAACCAACAGGTGGAAAATTTGGTTCACGCCAAGACCTAGCGATGGAACGGGTGCTCTATGGGGCCACAGACGTACATAATGGTTGTGCGTACCGGGCTTTTCCAGTTGTGAGTATTTTCACGTACTACCTGTCTACAGTGAACGCCACTTGTAGGTTTACGTGCTGGTGTTTCTTGGCGGACTACGGTTATAAACTGGCACCTACAGGCTACTATCGTGCACTTGGCCAGCAGGCTCTGTCATGGTACCTTAAACTTATTATAGCCAGAGCATTTTTGGAAGGGCCGTCGTAGATGAACTCTCAATATACACGGCCGGCCTGTAACACACGCCGAGCTGGTCCGCAGCGCCCGCTGATTGCGACATACGTTCGTGTTCAGTCCCGCCGAGGCCCCAGTAGGAGTAGTTCACACGATAAACTCGATAGCTAAACATTGCTTGAGGAGCTCTAGCGTATCCGCCGGTGAATACTGTGATGGACTAAGCGTGGATAAGAAAAAGCCATACGGGGCTCCTCTACATCCCAATATTTAGTCACAAACGTCACAAGGTGGACGGTCAAAAAGTAAGGAGAAGCGGAAAGCTTCATAAGATGCAACTAAAGTCCTTGCAGCGCCGGTTCATCCTTTGATGGACTGATGCCACTCCGTCGTCTCAGACCGCAACTAGCCTTGTTGCCCGGTAAAGCCCACCATTGTCCGAATTGAGCAATTTAAAATCCTCTTGATGTTTATTGAGCACAATAAGGGAGGGGCTGTGCGCATCCATTTTACCCT\\n'"
      ]
     },
     "execution_count": 20,
     "metadata": {},
     "output_type": "execute_result"
    }
   ],
   "source": [
    "data"
   ]
  },
  {
   "cell_type": "code",
   "execution_count": 21,
   "id": "64553539-ddf0-4311-943b-67392d5c4f45",
   "metadata": {
    "tags": []
   },
   "outputs": [
    {
     "data": {
      "text/plain": [
       "[('\\n', 1), ('A', 226), ('C', 225), ('G', 235), ('T', 232)]"
      ]
     },
     "execution_count": 21,
     "metadata": {},
     "output_type": "execute_result"
    }
   ],
   "source": [
    "sorted(Counter(data).items())"
   ]
  },
  {
   "cell_type": "markdown",
   "id": "e1852ea7-e0a5-4b9e-8d93-b8fad957ac8c",
   "metadata": {},
   "source": [
    "## Transcribing DNA into RNA "
   ]
  },
  {
   "cell_type": "code",
   "execution_count": 22,
   "id": "c6646193-0446-4883-bd6b-c2606f527e08",
   "metadata": {
    "tags": []
   },
   "outputs": [],
   "source": [
    "dna = 'GATGGAACTTGACTACGTAAATT'"
   ]
  },
  {
   "cell_type": "markdown",
   "id": "0e939178-fb69-4632-8a58-dcdaeefc76f3",
   "metadata": {},
   "source": [
    "### Solution1"
   ]
  },
  {
   "cell_type": "code",
   "execution_count": 23,
   "id": "8075f5a4-731f-431a-83b7-619d27b04a99",
   "metadata": {
    "tags": []
   },
   "outputs": [
    {
     "data": {
      "text/plain": [
       "'GAUGGAACUUGACUACGUAAAUU'"
      ]
     },
     "execution_count": 23,
     "metadata": {},
     "output_type": "execute_result"
    }
   ],
   "source": [
    "dna.replace('T','U')"
   ]
  },
  {
   "cell_type": "markdown",
   "id": "6fa1f180-5642-4b33-a67a-7148b18842ff",
   "metadata": {},
   "source": [
    "### Apply to data"
   ]
  },
  {
   "cell_type": "code",
   "execution_count": 24,
   "id": "342741af-bbe9-4034-ab93-2d5db3d2c6ec",
   "metadata": {
    "tags": []
   },
   "outputs": [],
   "source": [
    "f = open(\"rosalind_rna.txt\",'r')\n",
    "data = f.read()"
   ]
  },
  {
   "cell_type": "code",
   "execution_count": 25,
   "id": "8db1d0f7-ee64-4699-88ca-085b6741d33f",
   "metadata": {
    "tags": []
   },
   "outputs": [
    {
     "data": {
      "text/plain": [
       "'GAACTACGGGCTCGGTTCGGTCCGCGATAGCCTGGTTCCAGCTTGCATGACTAATGACGTTGGCCTCGCCCCTAAATACTGTTCAATCGATAGGTATGAATGCCCATCCCAAGGCGATTCGAGTAGGTAAACGATACCTCTTCTATACCCTTTACTCTAAAGGGTAACATTTAGGGTTATCTGCCATACCCTCGGGGGGAATTTTTACGGCCGATTCCACTCAGACACTTCCCCCAAGCAAAGAAACAGGTACCACTCAGAGGTGAATTTTTGGCCGTTTCGGACGTCTTAGCAGTCCACAGGCCGTCTTAGCATTGTAGTCCCTTGTATCTAGTCGCGGCGTCAAAATACCTATATGTAGAATGCACATGATCATAAGCCAACATGCAAGCATCTGATGGGTGAATCGTGCGGACTACTTGGCCAAGGCATGAAACGTGACACAGAATTAAGTATTTTACTGCTGAGTGAGTCTACCTTCTGCTAATAGTGTGAGTCGAACTGGTATCTTAACGTTTGCATGGCCAGACCTGAATAAGGTGGCTACCAGAGACTCCAAATAAATCTTGCTGGTACCGTAGAGCACCGACCCGAGATTGATGTGTTACGTTCGGTACCTTACTCATACGCGCATCAATACCGATCTGACTGTTAATACCCACTTTAGTGCCACATGCCTGATCCGGCTCTTGCGTCTGAGACTTACCGGTTTTTTTATGTATTCTTCCAGGCTATACAATCCAGGACGTAGTGTCTTTAATCCGATCCCCATGAAGATACGTTCCGTTCGAATACTGCGCTCACTTATCAGGATGGAGATTCAGCGTTTCTTAGGCTCTCAGGCAACGGATAACGTAGGTGGAATTGAGGAGTAGCGTGTGTTAATCCCCAATGCGCCGGTACAACCCAGGATACCGC\\n'"
      ]
     },
     "execution_count": 25,
     "metadata": {},
     "output_type": "execute_result"
    }
   ],
   "source": [
    "data"
   ]
  },
  {
   "cell_type": "code",
   "execution_count": 26,
   "id": "692b3285-0636-4cd1-a137-6998d5c53d09",
   "metadata": {
    "tags": []
   },
   "outputs": [
    {
     "data": {
      "text/plain": [
       "'GAACUACGGGCUCGGUUCGGUCCGCGAUAGCCUGGUUCCAGCUUGCAUGACUAAUGACGUUGGCCUCGCCCCUAAAUACUGUUCAAUCGAUAGGUAUGAAUGCCCAUCCCAAGGCGAUUCGAGUAGGUAAACGAUACCUCUUCUAUACCCUUUACUCUAAAGGGUAACAUUUAGGGUUAUCUGCCAUACCCUCGGGGGGAAUUUUUACGGCCGAUUCCACUCAGACACUUCCCCCAAGCAAAGAAACAGGUACCACUCAGAGGUGAAUUUUUGGCCGUUUCGGACGUCUUAGCAGUCCACAGGCCGUCUUAGCAUUGUAGUCCCUUGUAUCUAGUCGCGGCGUCAAAAUACCUAUAUGUAGAAUGCACAUGAUCAUAAGCCAACAUGCAAGCAUCUGAUGGGUGAAUCGUGCGGACUACUUGGCCAAGGCAUGAAACGUGACACAGAAUUAAGUAUUUUACUGCUGAGUGAGUCUACCUUCUGCUAAUAGUGUGAGUCGAACUGGUAUCUUAACGUUUGCAUGGCCAGACCUGAAUAAGGUGGCUACCAGAGACUCCAAAUAAAUCUUGCUGGUACCGUAGAGCACCGACCCGAGAUUGAUGUGUUACGUUCGGUACCUUACUCAUACGCGCAUCAAUACCGAUCUGACUGUUAAUACCCACUUUAGUGCCACAUGCCUGAUCCGGCUCUUGCGUCUGAGACUUACCGGUUUUUUUAUGUAUUCUUCCAGGCUAUACAAUCCAGGACGUAGUGUCUUUAAUCCGAUCCCCAUGAAGAUACGUUCCGUUCGAAUACUGCGCUCACUUAUCAGGAUGGAGAUUCAGCGUUUCUUAGGCUCUCAGGCAACGGAUAACGUAGGUGGAAUUGAGGAGUAGCGUGUGUUAAUCCCCAAUGCGCCGGUACAACCCAGGAUACCGC\\n'"
      ]
     },
     "execution_count": 26,
     "metadata": {},
     "output_type": "execute_result"
    }
   ],
   "source": [
    "data.replace('T','U')"
   ]
  },
  {
   "cell_type": "markdown",
   "id": "7fe2b339-100f-4cfc-ba82-016da1a0763f",
   "metadata": {},
   "source": [
    "## Complementing strand of DNA"
   ]
  },
  {
   "cell_type": "code",
   "execution_count": 27,
   "id": "c69bc0cb-6f67-4fde-bf9a-fec61c59e1de",
   "metadata": {
    "tags": []
   },
   "outputs": [],
   "source": [
    "sample = 'AAAACCCGGT'"
   ]
  },
  {
   "cell_type": "code",
   "execution_count": 42,
   "id": "372b368a-f00b-4ce6-8239-a7eea6c9ae33",
   "metadata": {
    "tags": []
   },
   "outputs": [
    {
     "name": "stdout",
     "output_type": "stream",
     "text": [
      "ACCGGGTTTT\n"
     ]
    }
   ],
   "source": [
    "complement = []\n",
    "for alpha in sample:\n",
    "        if alpha == 'A':\n",
    "            complement.append('T')\n",
    "        elif alpha == 'C':\n",
    "            complement.append('G')\n",
    "        elif alpha == 'G':\n",
    "            complement.append('C')\n",
    "        elif alpha == 'T':\n",
    "            complement.append('A')\n",
    "complement.reverse()\n",
    "print(\"\".join(complement))"
   ]
  },
  {
   "cell_type": "markdown",
   "id": "cd709484-d506-4bb0-8c45-2b0b3f344ad6",
   "metadata": {
    "tags": []
   },
   "source": [
    "### Apply to data"
   ]
  },
  {
   "cell_type": "code",
   "execution_count": 44,
   "id": "aaea642c-84d7-443b-bf50-49191ec6a4b5",
   "metadata": {
    "tags": []
   },
   "outputs": [
    {
     "data": {
      "text/plain": [
       "'CCGGTCTCAGTTTTGAGAGGACTAGGAAGCAGACAAAGATTGGCGCTGGCAAAAAGAGCAACAATAGTCACCCAAAGTCACTCAGATTAGTGGGTGACAGGATTATCGGATCCTCGCATAACCCGACCTGTAAAAGCATGGTGAACGTCCGAGCTCTAACATAATAAGGGTCTGTTCATAGACAGAGAGTGTCGCGACGCCACATGAGAAACTGTCGGGTTGCAGGTCTGTATGTCTGAAGATCGCGCTTGTTCCCGCTAACTTACATCATCCTTTGTATTGTAGTCTCATAGTGACACATAATTCAAGTGAACGTCCCAGGGAAAAGTGTCCCCGCGAGAACGCAAACCGGGCTCCTAAGCGGAACAGACGGACTAAAATAGGATGGGTAAAGCCTGTAACAAATTGAAAGGGTCTTCGTCCTGTGCCGAAACGATTATCATTACACTCGTGATCTCATTTCGGATCGGGAGCGGCGCTTGAAGTCAGGGCGAAACCTATTATGACACAACCGCGCGGTTCTTCTGGGTCCAGCTTGCTTTAGTGTAAGTTAGTTTTTGTTAAGATGGCGAATGCATTAACTGGATTTAATTAGCCCAATCTTACGCCCCCAGCTAACTTACTGAATCCTAACTTCTACATGCGCGTAGGAAGACAGGACGGCAAAAGCCCTCTCGGAGCGCTGACGTGTCGCGTGGCAAACGCTCCGACGCGTTGGTCACCTACCGTTGCGCGAATTCCATCAGAAATGTGGCGTAGTAGGGACTAAAGATCTCCTTTGCTTACAGCCCATTCAATTCCCCTCAGTTTACTCAGGAAACGACGCCTGACAATGGGGGGCAAA\\n'"
      ]
     },
     "execution_count": 44,
     "metadata": {},
     "output_type": "execute_result"
    }
   ],
   "source": [
    "f = open(\"rosalind_revc.txt\",'r')\n",
    "data = f.read()\n",
    "data"
   ]
  },
  {
   "cell_type": "code",
   "execution_count": 45,
   "id": "30b0d539-3129-4757-9890-5a8e9a086f80",
   "metadata": {
    "tags": []
   },
   "outputs": [
    {
     "name": "stdout",
     "output_type": "stream",
     "text": [
      "TTTGCCCCCCATTGTCAGGCGTCGTTTCCTGAGTAAACTGAGGGGAATTGAATGGGCTGTAAGCAAAGGAGATCTTTAGTCCCTACTACGCCACATTTCTGATGGAATTCGCGCAACGGTAGGTGACCAACGCGTCGGAGCGTTTGCCACGCGACACGTCAGCGCTCCGAGAGGGCTTTTGCCGTCCTGTCTTCCTACGCGCATGTAGAAGTTAGGATTCAGTAAGTTAGCTGGGGGCGTAAGATTGGGCTAATTAAATCCAGTTAATGCATTCGCCATCTTAACAAAAACTAACTTACACTAAAGCAAGCTGGACCCAGAAGAACCGCGCGGTTGTGTCATAATAGGTTTCGCCCTGACTTCAAGCGCCGCTCCCGATCCGAAATGAGATCACGAGTGTAATGATAATCGTTTCGGCACAGGACGAAGACCCTTTCAATTTGTTACAGGCTTTACCCATCCTATTTTAGTCCGTCTGTTCCGCTTAGGAGCCCGGTTTGCGTTCTCGCGGGGACACTTTTCCCTGGGACGTTCACTTGAATTATGTGTCACTATGAGACTACAATACAAAGGATGATGTAAGTTAGCGGGAACAAGCGCGATCTTCAGACATACAGACCTGCAACCCGACAGTTTCTCATGTGGCGTCGCGACACTCTCTGTCTATGAACAGACCCTTATTATGTTAGAGCTCGGACGTTCACCATGCTTTTACAGGTCGGGTTATGCGAGGATCCGATAATCCTGTCACCCACTAATCTGAGTGACTTTGGGTGACTATTGTTGCTCTTTTTGCCAGCGCCAATCTTTGTCTGCTTCCTAGTCCTCTCAAAACTGAGACCGG\n"
     ]
    }
   ],
   "source": [
    "complement = []\n",
    "for alpha in data:\n",
    "        if alpha == 'A':\n",
    "            complement.append('T')\n",
    "        elif alpha == 'C':\n",
    "            complement.append('G')\n",
    "        elif alpha == 'G':\n",
    "            complement.append('C')\n",
    "        elif alpha == 'T':\n",
    "            complement.append('A')\n",
    "complement.reverse()\n",
    "print(\"\".join(complement))"
   ]
  },
  {
   "cell_type": "markdown",
   "id": "1abe8371-6df1-4c6d-a565-ce48fec97440",
   "metadata": {},
   "source": [
    "## Rabbits and Recurrence Relation"
   ]
  },
  {
   "cell_type": "code",
   "execution_count": 47,
   "id": "90374ca6-5466-440e-a6c4-372e3cba735a",
   "metadata": {
    "tags": []
   },
   "outputs": [],
   "source": [
    "f0 = 0\n",
    "f1 = 1"
   ]
  },
  {
   "cell_type": "markdown",
   "id": "2039ba36-0ddb-42cc-919e-858b6975ead2",
   "metadata": {},
   "source": [
    "- fn = fn_1 + fn_2"
   ]
  },
  {
   "cell_type": "code",
   "execution_count": 48,
   "id": "7a196f13-0ce6-491a-b247-395aab12c1d9",
   "metadata": {
    "tags": []
   },
   "outputs": [],
   "source": [
    "f2 = f1+f0\n",
    "f3 = f2+f1"
   ]
  },
  {
   "cell_type": "code",
   "execution_count": 112,
   "id": "9e04de98-a2a2-4132-a049-f3a65768f2aa",
   "metadata": {
    "tags": []
   },
   "outputs": [],
   "source": [
    "iteration = 5\n",
    "litter = 3\n",
    "fibonacchi = [0,1]\n",
    "for i in range(iteration-1):\n",
    "    fibonacchi.append(fibonacchi[-1]+(fibonacchi[-2]*litter))"
   ]
  },
  {
   "cell_type": "code",
   "execution_count": 114,
   "id": "708e1062-78fb-46a2-a4fd-e1e1a5421ac4",
   "metadata": {
    "tags": []
   },
   "outputs": [
    {
     "data": {
      "text/plain": [
       "19"
      ]
     },
     "execution_count": 114,
     "metadata": {},
     "output_type": "execute_result"
    }
   ],
   "source": [
    "fibonacchi[-1]\n"
   ]
  },
  {
   "cell_type": "markdown",
   "id": "258a69ff-3b10-4aa9-8abd-3c648a2b3bd5",
   "metadata": {},
   "source": [
    "### Apply to data"
   ]
  },
  {
   "cell_type": "code",
   "execution_count": 122,
   "id": "8da4faa0-c383-4bdd-80b4-50c209044f0b",
   "metadata": {
    "tags": []
   },
   "outputs": [],
   "source": [
    "iteration = 30\n",
    "litter = 2\n",
    "fibonacchi = [0,1]\n",
    "for i in range(iteration-1):\n",
    "    fibonacchi.append(fibonacchi[-1]+(fibonacchi[-2]*litter))"
   ]
  },
  {
   "cell_type": "code",
   "execution_count": 123,
   "id": "e736045c-6c97-4a94-817d-e80a05cf537a",
   "metadata": {
    "tags": []
   },
   "outputs": [
    {
     "data": {
      "text/plain": [
       "357913941"
      ]
     },
     "execution_count": 123,
     "metadata": {},
     "output_type": "execute_result"
    }
   ],
   "source": [
    "fibonacchi[-1]"
   ]
  },
  {
   "cell_type": "markdown",
   "id": "5aedc303-efbd-45aa-950b-218f9a88dbea",
   "metadata": {},
   "source": [
    "## Computing GC Content"
   ]
  },
  {
   "cell_type": "code",
   "execution_count": 167,
   "id": "a239cd1e-85cb-4c36-bb67-f6126f66f266",
   "metadata": {
    "tags": []
   },
   "outputs": [],
   "source": [
    "keys = []\n",
    "seq = []\n",
    "with open('gc_content.txt','r') as f:\n",
    "    for s_line in f:\n",
    "        if '>' in s_line:\n",
    "            keys.append(s_line.split('>')[-1].rstrip())\n",
    "        else:\n",
    "            seq.append(s_line.rstrip())\n",
    "seq_dict = dict(zip(keys,seq))"
   ]
  },
  {
   "cell_type": "code",
   "execution_count": 168,
   "id": "5c4a9401-5687-468e-b4bf-fa3c64bbea42",
   "metadata": {
    "tags": []
   },
   "outputs": [
    {
     "data": {
      "text/plain": [
       "['Rosalind_6404', 'Rosalind_5959', 'Rosalind_0808']"
      ]
     },
     "execution_count": 168,
     "metadata": {},
     "output_type": "execute_result"
    }
   ],
   "source": [
    "keys"
   ]
  },
  {
   "cell_type": "code",
   "execution_count": 169,
   "id": "0869e584-7f4b-40c9-a92d-41de1a5fe0b3",
   "metadata": {
    "tags": []
   },
   "outputs": [
    {
     "data": {
      "text/plain": [
       "['CCTGCGGAAGATCGGCACTAGAATAGCCAGAACCGTTTCTCTGAGGCTTCCGGCCTTCCC',\n",
       " 'TCCCACTAATAATTCTGAGG',\n",
       " 'CCATCGGTAGCGCATCCTTAGTCCAATTAAGTCCCTATCCAGGCGCTCCGCCGAAGGTCT',\n",
       " 'ATATCCATTTGTCAGCAGACACGC',\n",
       " 'CCACCCTCGTGGTATGGCTAGGCATTCAGGAACCGGAGAACGCTTCAGACCAGCCCGGAC',\n",
       " 'TGGGAACCTGCGGGCAGTAGGTGGAAT']"
      ]
     },
     "execution_count": 169,
     "metadata": {},
     "output_type": "execute_result"
    }
   ],
   "source": [
    "seq"
   ]
  },
  {
   "cell_type": "code",
   "execution_count": 155,
   "id": "786a7bb1-dfc5-48b8-ac5a-df3a47e378cb",
   "metadata": {
    "tags": []
   },
   "outputs": [
    {
     "data": {
      "text/plain": [
       "{'Rosalind_6404': 'CCTGCGGAAGATCGGCACTAGAATAGCCAGAACCGTTTCTCTGAGGCTTCCGGCCTTCCC',\n",
       " 'Rosalind_5959': 'TCCCACTAATAATTCTGAGG',\n",
       " 'Rosalind_0808': 'CCATCGGTAGCGCATCCTTAGTCCAATTAAGTCCCTATCCAGGCGCTCCGCCGAAGGTCT'}"
      ]
     },
     "execution_count": 155,
     "metadata": {},
     "output_type": "execute_result"
    }
   ],
   "source": [
    "seq_dict"
   ]
  },
  {
   "cell_type": "code",
   "execution_count": 156,
   "id": "1255f23e-8aad-4d89-8525-f2ff6909cbc5",
   "metadata": {
    "tags": []
   },
   "outputs": [],
   "source": [
    "# from collections import Counter"
   ]
  },
  {
   "cell_type": "code",
   "execution_count": 159,
   "id": "7b30c033-03e0-4d82-86e8-cafa5fb72ec0",
   "metadata": {
    "tags": []
   },
   "outputs": [],
   "source": [
    "gc_list ={}\n",
    "for id,sequence in seq_dict.items():\n",
    "    ## seqのG,C count\n",
    "    length = len(sequence)\n",
    "    gc =0\n",
    "    for alpha in sequence:\n",
    "        if alpha == 'G' or alpha == 'C':\n",
    "            gc +=1\n",
    "    ## %\n",
    "    percentage = gc/length*100\n",
    "    \n",
    "    gc_list[id] = [sequence,gc,percentage]"
   ]
  },
  {
   "cell_type": "code",
   "execution_count": 160,
   "id": "e8b2aa7f-ae1f-4712-a2cd-51c4fbd0a20f",
   "metadata": {
    "tags": []
   },
   "outputs": [
    {
     "data": {
      "text/plain": [
       "{'Rosalind_6404': ['CCTGCGGAAGATCGGCACTAGAATAGCCAGAACCGTTTCTCTGAGGCTTCCGGCCTTCCC',\n",
       "  35,\n",
       "  58.333333333333336],\n",
       " 'Rosalind_5959': ['TCCCACTAATAATTCTGAGG', 8, 40.0],\n",
       " 'Rosalind_0808': ['CCATCGGTAGCGCATCCTTAGTCCAATTAAGTCCCTATCCAGGCGCTCCGCCGAAGGTCT',\n",
       "  34,\n",
       "  56.666666666666664]}"
      ]
     },
     "execution_count": 160,
     "metadata": {},
     "output_type": "execute_result"
    }
   ],
   "source": [
    "gc_list"
   ]
  },
  {
   "cell_type": "code",
   "execution_count": 183,
   "id": "204b618a-0573-4343-9799-d511e6cb5874",
   "metadata": {
    "tags": []
   },
   "outputs": [],
   "source": [
    "from Bio import SeqIO\n",
    "recs = SeqIO.parse(open('gc_content.fa.txt'),'fasta')"
   ]
  },
  {
   "cell_type": "code",
   "execution_count": 184,
   "id": "d5f99430-2848-4fa7-a220-406cae3e4144",
   "metadata": {
    "tags": []
   },
   "outputs": [
    {
     "name": "stdout",
     "output_type": "stream",
     "text": [
      "Rosalind_6404 CCTGCGGAAGATCGGCACTAGAATAGCCAGAACCGTTTCTCTGAGGCTTCCGGCCTTCCCTCCCACTAATAATTCTGAGG\n",
      "Rosalind_5959 CCATCGGTAGCGCATCCTTAGTCCAATTAAGTCCCTATCCAGGCGCTCCGCCGAAGGTCTATATCCATTTGTCAGCAGACACGC\n",
      "Rosalind_0808 CCACCCTCGTGGTATGGCTAGGCATTCAGGAACCGGAGAACGCTTCAGACCAGCCCGGACTGGGAACCTGCGGGCAGTAGGTGGAAT\n"
     ]
    }
   ],
   "source": [
    "for rec in recs:\n",
    "    print(rec.id,rec.seq)"
   ]
  },
  {
   "cell_type": "code",
   "execution_count": 187,
   "id": "e96afb7c-d9df-4659-b94f-1bab393e1689",
   "metadata": {
    "tags": []
   },
   "outputs": [],
   "source": [
    "gc_list ={}\n",
    "recs = SeqIO.parse(open('gc_content.fa.txt'),'fasta')\n",
    "for rec in recs:\n",
    "    id = rec.id\n",
    "    sequence = rec.seq\n",
    "    ## seqのG,C count\n",
    "    length = len(sequence)\n",
    "    gc =0\n",
    "    for alpha in sequence:\n",
    "        if alpha == 'G' or alpha == 'C':\n",
    "            gc +=1\n",
    "    ## %\n",
    "    percentage = gc/length*100\n",
    "    \n",
    "    gc_list[id] = [sequence[:10],gc,percentage]\n",
    "pd.DataFrame(gc_list).T.rename(columns = {0:'seq',1:'GC',2:'percentage'})"
   ]
  },
  {
   "cell_type": "code",
   "execution_count": 188,
   "id": "02402e6c-aa8d-49fd-b8c4-ce5e1565a729",
   "metadata": {
    "tags": []
   },
   "outputs": [
    {
     "data": {
      "text/plain": [
       "{'Rosalind_6404': [Seq('CCTGCGGAAG'), 43, 53.75],\n",
       " 'Rosalind_5959': [Seq('CCATCGGTAG'), 45, 53.57142857142857],\n",
       " 'Rosalind_0808': [Seq('CCACCCTCGT'), 53, 60.91954022988506]}"
      ]
     },
     "execution_count": 188,
     "metadata": {},
     "output_type": "execute_result"
    }
   ],
   "source": [
    "gc_list"
   ]
  },
  {
   "cell_type": "code",
   "execution_count": 189,
   "id": "419c460b-7930-4840-84c1-fea3d9d6a95c",
   "metadata": {
    "tags": []
   },
   "outputs": [],
   "source": [
    "import pandas as pd"
   ]
  },
  {
   "cell_type": "code",
   "execution_count": 193,
   "id": "5c70ec88-b15b-4433-945e-218949025d58",
   "metadata": {
    "tags": []
   },
   "outputs": [
    {
     "data": {
      "text/html": [
       "<div>\n",
       "<style scoped>\n",
       "    .dataframe tbody tr th:only-of-type {\n",
       "        vertical-align: middle;\n",
       "    }\n",
       "\n",
       "    .dataframe tbody tr th {\n",
       "        vertical-align: top;\n",
       "    }\n",
       "\n",
       "    .dataframe thead th {\n",
       "        text-align: right;\n",
       "    }\n",
       "</style>\n",
       "<table border=\"1\" class=\"dataframe\">\n",
       "  <thead>\n",
       "    <tr style=\"text-align: right;\">\n",
       "      <th></th>\n",
       "      <th>seq</th>\n",
       "      <th>GC</th>\n",
       "      <th>percentage</th>\n",
       "    </tr>\n",
       "  </thead>\n",
       "  <tbody>\n",
       "    <tr>\n",
       "      <th>Rosalind_6404</th>\n",
       "      <td>(C, C, T, G, C, G, G, A, A, G)</td>\n",
       "      <td>43</td>\n",
       "      <td>53.75</td>\n",
       "    </tr>\n",
       "    <tr>\n",
       "      <th>Rosalind_5959</th>\n",
       "      <td>(C, C, A, T, C, G, G, T, A, G)</td>\n",
       "      <td>45</td>\n",
       "      <td>53.571429</td>\n",
       "    </tr>\n",
       "    <tr>\n",
       "      <th>Rosalind_0808</th>\n",
       "      <td>(C, C, A, C, C, C, T, C, G, T)</td>\n",
       "      <td>53</td>\n",
       "      <td>60.91954</td>\n",
       "    </tr>\n",
       "  </tbody>\n",
       "</table>\n",
       "</div>"
      ],
      "text/plain": [
       "                                          seq  GC percentage\n",
       "Rosalind_6404  (C, C, T, G, C, G, G, A, A, G)  43      53.75\n",
       "Rosalind_5959  (C, C, A, T, C, G, G, T, A, G)  45  53.571429\n",
       "Rosalind_0808  (C, C, A, C, C, C, T, C, G, T)  53   60.91954"
      ]
     },
     "execution_count": 193,
     "metadata": {},
     "output_type": "execute_result"
    }
   ],
   "source": [
    "pd.DataFrame(gc_list).T.rename(columns = {0:'seq',1:'GC',2:'percentage'})"
   ]
  },
  {
   "cell_type": "markdown",
   "id": "d710ecfc-1e2d-49dc-8642-8686c573c8ea",
   "metadata": {},
   "source": [
    "### Apply to Data"
   ]
  },
  {
   "cell_type": "code",
   "execution_count": 194,
   "id": "20c243b9-9d1f-4bba-b7eb-68850c2e8b9b",
   "metadata": {
    "tags": []
   },
   "outputs": [
    {
     "data": {
      "text/html": [
       "<div>\n",
       "<style scoped>\n",
       "    .dataframe tbody tr th:only-of-type {\n",
       "        vertical-align: middle;\n",
       "    }\n",
       "\n",
       "    .dataframe tbody tr th {\n",
       "        vertical-align: top;\n",
       "    }\n",
       "\n",
       "    .dataframe thead th {\n",
       "        text-align: right;\n",
       "    }\n",
       "</style>\n",
       "<table border=\"1\" class=\"dataframe\">\n",
       "  <thead>\n",
       "    <tr style=\"text-align: right;\">\n",
       "      <th></th>\n",
       "      <th>seq</th>\n",
       "      <th>GC</th>\n",
       "      <th>percentage</th>\n",
       "    </tr>\n",
       "  </thead>\n",
       "  <tbody>\n",
       "    <tr>\n",
       "      <th>Rosalind_6459</th>\n",
       "      <td>(C, A, G, G, T, C, G, T, A, T)</td>\n",
       "      <td>408</td>\n",
       "      <td>47.49709</td>\n",
       "    </tr>\n",
       "    <tr>\n",
       "      <th>Rosalind_2769</th>\n",
       "      <td>(A, T, A, C, G, C, T, G, G, C)</td>\n",
       "      <td>460</td>\n",
       "      <td>49.89154</td>\n",
       "    </tr>\n",
       "    <tr>\n",
       "      <th>Rosalind_2921</th>\n",
       "      <td>(C, G, C, C, T, G, A, T, A, C)</td>\n",
       "      <td>447</td>\n",
       "      <td>50.337838</td>\n",
       "    </tr>\n",
       "    <tr>\n",
       "      <th>Rosalind_2305</th>\n",
       "      <td>(G, G, G, A, G, T, T, G, G, T)</td>\n",
       "      <td>465</td>\n",
       "      <td>50.379198</td>\n",
       "    </tr>\n",
       "    <tr>\n",
       "      <th>Rosalind_6705</th>\n",
       "      <td>(C, T, A, G, A, A, G, G, T, C)</td>\n",
       "      <td>461</td>\n",
       "      <td>50.382514</td>\n",
       "    </tr>\n",
       "    <tr>\n",
       "      <th>Rosalind_0918</th>\n",
       "      <td>(A, C, C, C, G, T, A, T, T, A)</td>\n",
       "      <td>484</td>\n",
       "      <td>50.469239</td>\n",
       "    </tr>\n",
       "    <tr>\n",
       "      <th>Rosalind_9377</th>\n",
       "      <td>(T, A, A, T, C, T, C, A, A, T)</td>\n",
       "      <td>451</td>\n",
       "      <td>50.788288</td>\n",
       "    </tr>\n",
       "    <tr>\n",
       "      <th>Rosalind_5212</th>\n",
       "      <td>(T, G, C, A, T, C, A, T, A, A)</td>\n",
       "      <td>438</td>\n",
       "      <td>50.87108</td>\n",
       "    </tr>\n",
       "    <tr>\n",
       "      <th>Rosalind_0173</th>\n",
       "      <td>(T, G, C, G, G, T, A, C, T, G)</td>\n",
       "      <td>459</td>\n",
       "      <td>50.943396</td>\n",
       "    </tr>\n",
       "    <tr>\n",
       "      <th>Rosalind_8473</th>\n",
       "      <td>(C, T, T, C, T, T, A, C, A, G)</td>\n",
       "      <td>507</td>\n",
       "      <td>50.954774</td>\n",
       "    </tr>\n",
       "  </tbody>\n",
       "</table>\n",
       "</div>"
      ],
      "text/plain": [
       "                                          seq   GC percentage\n",
       "Rosalind_6459  (C, A, G, G, T, C, G, T, A, T)  408   47.49709\n",
       "Rosalind_2769  (A, T, A, C, G, C, T, G, G, C)  460   49.89154\n",
       "Rosalind_2921  (C, G, C, C, T, G, A, T, A, C)  447  50.337838\n",
       "Rosalind_2305  (G, G, G, A, G, T, T, G, G, T)  465  50.379198\n",
       "Rosalind_6705  (C, T, A, G, A, A, G, G, T, C)  461  50.382514\n",
       "Rosalind_0918  (A, C, C, C, G, T, A, T, T, A)  484  50.469239\n",
       "Rosalind_9377  (T, A, A, T, C, T, C, A, A, T)  451  50.788288\n",
       "Rosalind_5212  (T, G, C, A, T, C, A, T, A, A)  438   50.87108\n",
       "Rosalind_0173  (T, G, C, G, G, T, A, C, T, G)  459  50.943396\n",
       "Rosalind_8473  (C, T, T, C, T, T, A, C, A, G)  507  50.954774"
      ]
     },
     "execution_count": 194,
     "metadata": {},
     "output_type": "execute_result"
    }
   ],
   "source": [
    "gc_list ={}\n",
    "recs = SeqIO.parse(open('rosalind_gc.txt'),'fasta')\n",
    "for rec in recs:\n",
    "    id = rec.id\n",
    "    sequence = rec.seq\n",
    "    ## seqのG,C count\n",
    "    length = len(sequence)\n",
    "    gc =0\n",
    "    for alpha in sequence:\n",
    "        if alpha == 'G' or alpha == 'C':\n",
    "            gc +=1\n",
    "    ## %\n",
    "    percentage = gc/length*100\n",
    "    \n",
    "    gc_list[id] = [sequence[:10],gc,percentage]\n",
    "pd.DataFrame(gc_list).T.rename(columns = {0:'seq',1:'GC',2:'percentage'}).sort_values(by='percentage')"
   ]
  },
  {
   "cell_type": "code",
   "execution_count": null,
   "id": "287c41d0-0fd4-47c0-a34c-fcc95db8d70d",
   "metadata": {},
   "outputs": [],
   "source": []
  }
 ],
 "metadata": {
  "kernelspec": {
   "display_name": "Python 3 (ipykernel)",
   "language": "python",
   "name": "python3"
  },
  "language_info": {
   "codemirror_mode": {
    "name": "ipython",
    "version": 3
   },
   "file_extension": ".py",
   "mimetype": "text/x-python",
   "name": "python",
   "nbconvert_exporter": "python",
   "pygments_lexer": "ipython3",
   "version": "3.11.5"
  }
 },
 "nbformat": 4,
 "nbformat_minor": 5
}
