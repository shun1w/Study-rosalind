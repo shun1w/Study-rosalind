{
 "cells": [
  {
   "cell_type": "code",
   "execution_count": 12,
   "id": "69b1cc87-3cba-4ffe-8016-fe31c77a1fe0",
   "metadata": {
    "tags": []
   },
   "outputs": [],
   "source": [
    "import numpy as np\n",
    "from Bio import SeqIO\n",
    "import re"
   ]
  },
  {
   "cell_type": "markdown",
   "id": "ba5f9d2e-1638-482a-8586-4f947877f651",
   "metadata": {},
   "source": [
    "## RNA Splicing"
   ]
  },
  {
   "cell_type": "code",
   "execution_count": 35,
   "id": "44744316-e627-4021-8f7a-3cfa1efbcd0f",
   "metadata": {
    "tags": []
   },
   "outputs": [],
   "source": [
    "records = SeqIO.parse('./data/test/rosalind_rna_splicing.txt','fasta')\n",
    "sequences = []\n",
    "for rec in records:\n",
    "    sequences.append(rec.seq)"
   ]
  },
  {
   "cell_type": "code",
   "execution_count": 36,
   "id": "c6b9360f-f19e-4b48-87da-d67751eda492",
   "metadata": {
    "tags": []
   },
   "outputs": [
    {
     "data": {
      "text/plain": [
       "[Seq('ATGGTCTACATAGCTGACAAACAGCACGTAGCAATCGGTCGAATCTCGAGAGGC...TAG'),\n",
       " Seq('ATCGGTCGAA'),\n",
       " Seq('ATCGGTCGAGCGTGT')]"
      ]
     },
     "execution_count": 36,
     "metadata": {},
     "output_type": "execute_result"
    }
   ],
   "source": [
    "sequences"
   ]
  },
  {
   "cell_type": "code",
   "execution_count": 4,
   "id": "f8475380-8dd0-4605-8be8-0a2c25e5d711",
   "metadata": {
    "tags": []
   },
   "outputs": [],
   "source": [
    "codon_dict ={\n",
    "    'UUU': 'F', 'CUU': 'L', 'AUU': 'I', 'GUU': 'V',\n",
    "    'UUC': 'F', 'CUC': 'L', 'AUC': 'I', 'GUC': 'V',\n",
    "    'UUA': 'L', 'CUA': 'L', 'AUA': 'I', 'GUA': 'V',\n",
    "    'UUG': 'L', 'CUG': 'L', 'AUG': 'M', 'GUG': 'V',\n",
    "    'UCU': 'S', 'CCU': 'P', 'ACU': 'T', 'GCU': 'A',\n",
    "    'UCC': 'S', 'CCC': 'P', 'ACC': 'T', 'GCC': 'A',\n",
    "    'UCA': 'S', 'CCA': 'P', 'ACA': 'T', 'GCA': 'A',\n",
    "    'UCG': 'S', 'CCG': 'P', 'ACG': 'T', 'GCG': 'A',\n",
    "    'UAU': 'Y', 'CAU': 'H', 'AAU': 'N', 'GAU': 'D',\n",
    "    'UAC': 'Y', 'CAC': 'H', 'AAC': 'N', 'GAC': 'D',\n",
    "    'UAA': 'Stop', 'CAA': 'Q', 'AAA': 'K', 'GAA': 'E',\n",
    "    'UAG': 'Stop', 'CAG': 'Q', 'AAG': 'K', 'GAG': 'E',\n",
    "    'UGU': 'C', 'CGU': 'R', 'AGU': 'S', 'GGU': 'G',\n",
    "    'UGC': 'C', 'CGC': 'R', 'AGC': 'S', 'GGC': 'G',\n",
    "    'UGA': 'Stop', 'CGA': 'R', 'AGA': 'R', 'GGA': 'G',\n",
    "    'UGG': 'W', 'CGG': 'R', 'AGG': 'R', 'GGG': 'G'\n",
    "}\n"
   ]
  },
  {
   "cell_type": "code",
   "execution_count": 50,
   "id": "f796f9bf-1f7f-4533-9c04-34f1165728bb",
   "metadata": {
    "tags": []
   },
   "outputs": [],
   "source": [
    "dna = sequences[0]\n",
    "subs = sequences[1:]"
   ]
  },
  {
   "cell_type": "code",
   "execution_count": 51,
   "id": "8fce9929-7c81-4345-ab4f-8624a1b43f8c",
   "metadata": {
    "tags": []
   },
   "outputs": [
    {
     "data": {
      "text/plain": [
       "[Seq('ATCGGTCGAA'), Seq('ATCGGTCGAGCGTGT')]"
      ]
     },
     "execution_count": 51,
     "metadata": {},
     "output_type": "execute_result"
    }
   ],
   "source": [
    "subs"
   ]
  },
  {
   "cell_type": "code",
   "execution_count": 56,
   "id": "bfb8f613-b2d4-4253-a111-7829d7a1f098",
   "metadata": {
    "tags": []
   },
   "outputs": [
    {
     "name": "stdout",
     "output_type": "stream",
     "text": [
      "ATGGTCTACATAGCTGACAAACAGCACGTAGCAATCGGTCGAATCTCGAGAGGCATATGGTCACATGATCGGTCGAGCGTGTTTCAAAGTTTGCGCCTAG\n",
      "ATCGGTCGAA\n",
      "ATGGTCTACATAGCTGACAAACAGCACGTAGCATCTCGAGAGGCATATGGTCACATGATCGGTCGAGCGTGTTTCAAAGTTTGCGCCTAG\n",
      "ATCGGTCGAGCGTGT\n",
      "ATGGTCTACATAGCTGACAAACAGCACGTAGCATCTCGAGAGGCATATGGTCACATGTTCAAAGTTTGCGCCTAG\n"
     ]
    }
   ],
   "source": [
    "print(dna)\n",
    "for i in subs:\n",
    "    print(i)\n",
    "    dna = dna.replace(i,'')\n",
    "    print(dna)"
   ]
  },
  {
   "cell_type": "code",
   "execution_count": 57,
   "id": "0805806e-dde7-4720-8d9c-6c66de914492",
   "metadata": {
    "tags": []
   },
   "outputs": [
    {
     "data": {
      "text/plain": [
       "Seq('MVYIADKQHVASREAYGHMFKVCA')"
      ]
     },
     "execution_count": 57,
     "metadata": {},
     "output_type": "execute_result"
    }
   ],
   "source": [
    "dna.translate(to_stop=True)"
   ]
  },
  {
   "cell_type": "markdown",
   "id": "ae083fe5-9acc-4ec4-83cf-af10499d5513",
   "metadata": {},
   "source": [
    "### apply to data "
   ]
  },
  {
   "cell_type": "code",
   "execution_count": 60,
   "id": "b4583ebf-68e8-49be-8341-07eb17c86481",
   "metadata": {
    "tags": []
   },
   "outputs": [
    {
     "data": {
      "text/plain": [
       "'MSQHTIQWGTGRPPTQYSGVEPPHHMARRVSCAPTRTLGHIRRSSFFILHKLATSLGNVRRNIQVRVPGSRRLHFMRLIVNRLVLVYVRDFITCNNGKSMHAPPIPESQFTLQVELLVLRREELGARCRLELSILDHRHVSYYLDGTPAPALNNVTSWCGESARRHYDARCTRFFPRFYLY'"
      ]
     },
     "execution_count": 60,
     "metadata": {},
     "output_type": "execute_result"
    }
   ],
   "source": [
    "records = SeqIO.parse('./data/rosalind_splc.txt','fasta')\n",
    "sequences = []\n",
    "for rec in records:\n",
    "    sequences.append(rec.seq)\n",
    "dna = sequences[0]\n",
    "subs = sequences[1:]\n",
    "\n",
    "for i in subs:\n",
    "    dna = dna.replace(i,'')\n",
    "str(dna.translate(to_stop=True))"
   ]
  },
  {
   "cell_type": "code",
   "execution_count": null,
   "id": "0050308e-a35b-4857-b2c7-8f189484d2ed",
   "metadata": {},
   "outputs": [],
   "source": []
  }
 ],
 "metadata": {
  "kernelspec": {
   "display_name": "Python 3 (ipykernel)",
   "language": "python",
   "name": "python3"
  },
  "language_info": {
   "codemirror_mode": {
    "name": "ipython",
    "version": 3
   },
   "file_extension": ".py",
   "mimetype": "text/x-python",
   "name": "python",
   "nbconvert_exporter": "python",
   "pygments_lexer": "ipython3",
   "version": "3.11.5"
  }
 },
 "nbformat": 4,
 "nbformat_minor": 5
}
