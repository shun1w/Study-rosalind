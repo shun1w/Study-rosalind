{
 "cells": [
  {
   "cell_type": "code",
   "execution_count": 2,
   "id": "69b1cc87-3cba-4ffe-8016-fe31c77a1fe0",
   "metadata": {
    "tags": []
   },
   "outputs": [],
   "source": [
    "import numpy as np\n",
    "from Bio import SeqIO\n",
    "import re"
   ]
  },
  {
   "cell_type": "markdown",
   "id": "ba5f9d2e-1638-482a-8586-4f947877f651",
   "metadata": {},
   "source": [
    "## RNA Splicing"
   ]
  },
  {
   "cell_type": "code",
   "execution_count": 35,
   "id": "44744316-e627-4021-8f7a-3cfa1efbcd0f",
   "metadata": {
    "tags": []
   },
   "outputs": [],
   "source": [
    "records = SeqIO.parse('./data/test/rosalind_rna_splicing.txt','fasta')\n",
    "sequences = []\n",
    "for rec in records:\n",
    "    sequences.append(rec.seq)"
   ]
  },
  {
   "cell_type": "code",
   "execution_count": 36,
   "id": "c6b9360f-f19e-4b48-87da-d67751eda492",
   "metadata": {
    "tags": []
   },
   "outputs": [
    {
     "data": {
      "text/plain": [
       "[Seq('ATGGTCTACATAGCTGACAAACAGCACGTAGCAATCGGTCGAATCTCGAGAGGC...TAG'),\n",
       " Seq('ATCGGTCGAA'),\n",
       " Seq('ATCGGTCGAGCGTGT')]"
      ]
     },
     "execution_count": 36,
     "metadata": {},
     "output_type": "execute_result"
    }
   ],
   "source": [
    "sequences"
   ]
  },
  {
   "cell_type": "code",
   "execution_count": 4,
   "id": "f8475380-8dd0-4605-8be8-0a2c25e5d711",
   "metadata": {
    "tags": []
   },
   "outputs": [],
   "source": [
    "codon_dict ={\n",
    "    'UUU': 'F', 'CUU': 'L', 'AUU': 'I', 'GUU': 'V',\n",
    "    'UUC': 'F', 'CUC': 'L', 'AUC': 'I', 'GUC': 'V',\n",
    "    'UUA': 'L', 'CUA': 'L', 'AUA': 'I', 'GUA': 'V',\n",
    "    'UUG': 'L', 'CUG': 'L', 'AUG': 'M', 'GUG': 'V',\n",
    "    'UCU': 'S', 'CCU': 'P', 'ACU': 'T', 'GCU': 'A',\n",
    "    'UCC': 'S', 'CCC': 'P', 'ACC': 'T', 'GCC': 'A',\n",
    "    'UCA': 'S', 'CCA': 'P', 'ACA': 'T', 'GCA': 'A',\n",
    "    'UCG': 'S', 'CCG': 'P', 'ACG': 'T', 'GCG': 'A',\n",
    "    'UAU': 'Y', 'CAU': 'H', 'AAU': 'N', 'GAU': 'D',\n",
    "    'UAC': 'Y', 'CAC': 'H', 'AAC': 'N', 'GAC': 'D',\n",
    "    'UAA': 'Stop', 'CAA': 'Q', 'AAA': 'K', 'GAA': 'E',\n",
    "    'UAG': 'Stop', 'CAG': 'Q', 'AAG': 'K', 'GAG': 'E',\n",
    "    'UGU': 'C', 'CGU': 'R', 'AGU': 'S', 'GGU': 'G',\n",
    "    'UGC': 'C', 'CGC': 'R', 'AGC': 'S', 'GGC': 'G',\n",
    "    'UGA': 'Stop', 'CGA': 'R', 'AGA': 'R', 'GGA': 'G',\n",
    "    'UGG': 'W', 'CGG': 'R', 'AGG': 'R', 'GGG': 'G'\n",
    "}\n"
   ]
  },
  {
   "cell_type": "code",
   "execution_count": 50,
   "id": "f796f9bf-1f7f-4533-9c04-34f1165728bb",
   "metadata": {
    "tags": []
   },
   "outputs": [],
   "source": [
    "dna = sequences[0]\n",
    "subs = sequences[1:]"
   ]
  },
  {
   "cell_type": "code",
   "execution_count": 51,
   "id": "8fce9929-7c81-4345-ab4f-8624a1b43f8c",
   "metadata": {
    "tags": []
   },
   "outputs": [
    {
     "data": {
      "text/plain": [
       "[Seq('ATCGGTCGAA'), Seq('ATCGGTCGAGCGTGT')]"
      ]
     },
     "execution_count": 51,
     "metadata": {},
     "output_type": "execute_result"
    }
   ],
   "source": [
    "subs"
   ]
  },
  {
   "cell_type": "code",
   "execution_count": 56,
   "id": "bfb8f613-b2d4-4253-a111-7829d7a1f098",
   "metadata": {
    "tags": []
   },
   "outputs": [
    {
     "name": "stdout",
     "output_type": "stream",
     "text": [
      "ATGGTCTACATAGCTGACAAACAGCACGTAGCAATCGGTCGAATCTCGAGAGGCATATGGTCACATGATCGGTCGAGCGTGTTTCAAAGTTTGCGCCTAG\n",
      "ATCGGTCGAA\n",
      "ATGGTCTACATAGCTGACAAACAGCACGTAGCATCTCGAGAGGCATATGGTCACATGATCGGTCGAGCGTGTTTCAAAGTTTGCGCCTAG\n",
      "ATCGGTCGAGCGTGT\n",
      "ATGGTCTACATAGCTGACAAACAGCACGTAGCATCTCGAGAGGCATATGGTCACATGTTCAAAGTTTGCGCCTAG\n"
     ]
    }
   ],
   "source": [
    "print(dna)\n",
    "for i in subs:\n",
    "    print(i)\n",
    "    dna = dna.replace(i,'')\n",
    "    print(dna)"
   ]
  },
  {
   "cell_type": "code",
   "execution_count": 57,
   "id": "0805806e-dde7-4720-8d9c-6c66de914492",
   "metadata": {
    "tags": []
   },
   "outputs": [
    {
     "data": {
      "text/plain": [
       "Seq('MVYIADKQHVASREAYGHMFKVCA')"
      ]
     },
     "execution_count": 57,
     "metadata": {},
     "output_type": "execute_result"
    }
   ],
   "source": [
    "dna.translate(to_stop=True)"
   ]
  },
  {
   "cell_type": "markdown",
   "id": "ae083fe5-9acc-4ec4-83cf-af10499d5513",
   "metadata": {},
   "source": [
    "### apply to data "
   ]
  },
  {
   "cell_type": "code",
   "execution_count": 60,
   "id": "b4583ebf-68e8-49be-8341-07eb17c86481",
   "metadata": {
    "tags": []
   },
   "outputs": [
    {
     "data": {
      "text/plain": [
       "'MSQHTIQWGTGRPPTQYSGVEPPHHMARRVSCAPTRTLGHIRRSSFFILHKLATSLGNVRRNIQVRVPGSRRLHFMRLIVNRLVLVYVRDFITCNNGKSMHAPPIPESQFTLQVELLVLRREELGARCRLELSILDHRHVSYYLDGTPAPALNNVTSWCGESARRHYDARCTRFFPRFYLY'"
      ]
     },
     "execution_count": 60,
     "metadata": {},
     "output_type": "execute_result"
    }
   ],
   "source": [
    "records = SeqIO.parse('./data/rosalind_splc.txt','fasta')\n",
    "sequences = []\n",
    "for rec in records:\n",
    "    sequences.append(rec.seq)\n",
    "dna = sequences[0]\n",
    "subs = sequences[1:]\n",
    "\n",
    "for i in subs:\n",
    "    dna = dna.replace(i,'')\n",
    "str(dna.translate(to_stop=True))"
   ]
  },
  {
   "cell_type": "markdown",
   "id": "6d46f2c3-5744-4f34-8090-b229aa20eeab",
   "metadata": {},
   "source": [
    "## Enumerating k-mers Lexicographically"
   ]
  },
  {
   "cell_type": "code",
   "execution_count": 5,
   "id": "def33b6f-0a7a-4586-9f0e-9299706c986a",
   "metadata": {
    "tags": []
   },
   "outputs": [],
   "source": [
    "from itertools import permutations,product"
   ]
  },
  {
   "cell_type": "code",
   "execution_count": 29,
   "id": "eceb2a0b-d610-4617-a34a-34be5eefcdb3",
   "metadata": {
    "tags": []
   },
   "outputs": [],
   "source": [
    "lis = sorted(['A','T','C','G' ])"
   ]
  },
  {
   "cell_type": "code",
   "execution_count": 35,
   "id": "f4eff2c4-32b7-447f-9546-ac145696a815",
   "metadata": {
    "tags": []
   },
   "outputs": [
    {
     "name": "stdout",
     "output_type": "stream",
     "text": [
      "AA\n",
      "AC\n",
      "AG\n",
      "AT\n",
      "CA\n",
      "CC\n",
      "CG\n",
      "CT\n",
      "GA\n",
      "GC\n",
      "GG\n",
      "GT\n",
      "TA\n",
      "TC\n",
      "TG\n",
      "TT\n"
     ]
    }
   ],
   "source": [
    "for aa in product(lis,repeat =2):\n",
    "    print(''.join(aa))"
   ]
  },
  {
   "cell_type": "markdown",
   "id": "9581ee2e-89b9-42bf-8c54-b3ca9b95ce3a",
   "metadata": {
    "tags": []
   },
   "source": [
    "### apply to data"
   ]
  },
  {
   "cell_type": "code",
   "execution_count": 36,
   "id": "daff3e73-8320-46e5-b199-d65a06a2b6ed",
   "metadata": {
    "tags": []
   },
   "outputs": [
    {
     "name": "stdout",
     "output_type": "stream",
     "text": [
      "A B C D E F G H\n",
      "3\n",
      "\n"
     ]
    }
   ],
   "source": [
    "lis=[]\n",
    "with open('./data/rosalind_lexf.txt') as f:\n",
    "    lines = f.read()\n",
    "    for l in lines.split(\"\\n\"):\n",
    "        print(l)"
   ]
  },
  {
   "cell_type": "code",
   "execution_count": 42,
   "id": "fb53a4d5-707b-4313-b17e-b3f166448dc7",
   "metadata": {
    "scrolled": true,
    "tags": []
   },
   "outputs": [
    {
     "name": "stdout",
     "output_type": "stream",
     "text": [
      "AAA\n",
      "AAB\n",
      "AAC\n",
      "AAD\n",
      "AAE\n",
      "AAF\n",
      "AAG\n",
      "AAH\n",
      "ABA\n",
      "ABB\n",
      "ABC\n",
      "ABD\n",
      "ABE\n",
      "ABF\n",
      "ABG\n",
      "ABH\n",
      "ACA\n",
      "ACB\n",
      "ACC\n",
      "ACD\n",
      "ACE\n",
      "ACF\n",
      "ACG\n",
      "ACH\n",
      "ADA\n",
      "ADB\n",
      "ADC\n",
      "ADD\n",
      "ADE\n",
      "ADF\n",
      "ADG\n",
      "ADH\n",
      "AEA\n",
      "AEB\n",
      "AEC\n",
      "AED\n",
      "AEE\n",
      "AEF\n",
      "AEG\n",
      "AEH\n",
      "AFA\n",
      "AFB\n",
      "AFC\n",
      "AFD\n",
      "AFE\n",
      "AFF\n",
      "AFG\n",
      "AFH\n",
      "AGA\n",
      "AGB\n",
      "AGC\n",
      "AGD\n",
      "AGE\n",
      "AGF\n",
      "AGG\n",
      "AGH\n",
      "AHA\n",
      "AHB\n",
      "AHC\n",
      "AHD\n",
      "AHE\n",
      "AHF\n",
      "AHG\n",
      "AHH\n",
      "BAA\n",
      "BAB\n",
      "BAC\n",
      "BAD\n",
      "BAE\n",
      "BAF\n",
      "BAG\n",
      "BAH\n",
      "BBA\n",
      "BBB\n",
      "BBC\n",
      "BBD\n",
      "BBE\n",
      "BBF\n",
      "BBG\n",
      "BBH\n",
      "BCA\n",
      "BCB\n",
      "BCC\n",
      "BCD\n",
      "BCE\n",
      "BCF\n",
      "BCG\n",
      "BCH\n",
      "BDA\n",
      "BDB\n",
      "BDC\n",
      "BDD\n",
      "BDE\n",
      "BDF\n",
      "BDG\n",
      "BDH\n",
      "BEA\n",
      "BEB\n",
      "BEC\n",
      "BED\n",
      "BEE\n",
      "BEF\n",
      "BEG\n",
      "BEH\n",
      "BFA\n",
      "BFB\n",
      "BFC\n",
      "BFD\n",
      "BFE\n",
      "BFF\n",
      "BFG\n",
      "BFH\n",
      "BGA\n",
      "BGB\n",
      "BGC\n",
      "BGD\n",
      "BGE\n",
      "BGF\n",
      "BGG\n",
      "BGH\n",
      "BHA\n",
      "BHB\n",
      "BHC\n",
      "BHD\n",
      "BHE\n",
      "BHF\n",
      "BHG\n",
      "BHH\n",
      "CAA\n",
      "CAB\n",
      "CAC\n",
      "CAD\n",
      "CAE\n",
      "CAF\n",
      "CAG\n",
      "CAH\n",
      "CBA\n",
      "CBB\n",
      "CBC\n",
      "CBD\n",
      "CBE\n",
      "CBF\n",
      "CBG\n",
      "CBH\n",
      "CCA\n",
      "CCB\n",
      "CCC\n",
      "CCD\n",
      "CCE\n",
      "CCF\n",
      "CCG\n",
      "CCH\n",
      "CDA\n",
      "CDB\n",
      "CDC\n",
      "CDD\n",
      "CDE\n",
      "CDF\n",
      "CDG\n",
      "CDH\n",
      "CEA\n",
      "CEB\n",
      "CEC\n",
      "CED\n",
      "CEE\n",
      "CEF\n",
      "CEG\n",
      "CEH\n",
      "CFA\n",
      "CFB\n",
      "CFC\n",
      "CFD\n",
      "CFE\n",
      "CFF\n",
      "CFG\n",
      "CFH\n",
      "CGA\n",
      "CGB\n",
      "CGC\n",
      "CGD\n",
      "CGE\n",
      "CGF\n",
      "CGG\n",
      "CGH\n",
      "CHA\n",
      "CHB\n",
      "CHC\n",
      "CHD\n",
      "CHE\n",
      "CHF\n",
      "CHG\n",
      "CHH\n",
      "DAA\n",
      "DAB\n",
      "DAC\n",
      "DAD\n",
      "DAE\n",
      "DAF\n",
      "DAG\n",
      "DAH\n",
      "DBA\n",
      "DBB\n",
      "DBC\n",
      "DBD\n",
      "DBE\n",
      "DBF\n",
      "DBG\n",
      "DBH\n",
      "DCA\n",
      "DCB\n",
      "DCC\n",
      "DCD\n",
      "DCE\n",
      "DCF\n",
      "DCG\n",
      "DCH\n",
      "DDA\n",
      "DDB\n",
      "DDC\n",
      "DDD\n",
      "DDE\n",
      "DDF\n",
      "DDG\n",
      "DDH\n",
      "DEA\n",
      "DEB\n",
      "DEC\n",
      "DED\n",
      "DEE\n",
      "DEF\n",
      "DEG\n",
      "DEH\n",
      "DFA\n",
      "DFB\n",
      "DFC\n",
      "DFD\n",
      "DFE\n",
      "DFF\n",
      "DFG\n",
      "DFH\n",
      "DGA\n",
      "DGB\n",
      "DGC\n",
      "DGD\n",
      "DGE\n",
      "DGF\n",
      "DGG\n",
      "DGH\n",
      "DHA\n",
      "DHB\n",
      "DHC\n",
      "DHD\n",
      "DHE\n",
      "DHF\n",
      "DHG\n",
      "DHH\n",
      "EAA\n",
      "EAB\n",
      "EAC\n",
      "EAD\n",
      "EAE\n",
      "EAF\n",
      "EAG\n",
      "EAH\n",
      "EBA\n",
      "EBB\n",
      "EBC\n",
      "EBD\n",
      "EBE\n",
      "EBF\n",
      "EBG\n",
      "EBH\n",
      "ECA\n",
      "ECB\n",
      "ECC\n",
      "ECD\n",
      "ECE\n",
      "ECF\n",
      "ECG\n",
      "ECH\n",
      "EDA\n",
      "EDB\n",
      "EDC\n",
      "EDD\n",
      "EDE\n",
      "EDF\n",
      "EDG\n",
      "EDH\n",
      "EEA\n",
      "EEB\n",
      "EEC\n",
      "EED\n",
      "EEE\n",
      "EEF\n",
      "EEG\n",
      "EEH\n",
      "EFA\n",
      "EFB\n",
      "EFC\n",
      "EFD\n",
      "EFE\n",
      "EFF\n",
      "EFG\n",
      "EFH\n",
      "EGA\n",
      "EGB\n",
      "EGC\n",
      "EGD\n",
      "EGE\n",
      "EGF\n",
      "EGG\n",
      "EGH\n",
      "EHA\n",
      "EHB\n",
      "EHC\n",
      "EHD\n",
      "EHE\n",
      "EHF\n",
      "EHG\n",
      "EHH\n",
      "FAA\n",
      "FAB\n",
      "FAC\n",
      "FAD\n",
      "FAE\n",
      "FAF\n",
      "FAG\n",
      "FAH\n",
      "FBA\n",
      "FBB\n",
      "FBC\n",
      "FBD\n",
      "FBE\n",
      "FBF\n",
      "FBG\n",
      "FBH\n",
      "FCA\n",
      "FCB\n",
      "FCC\n",
      "FCD\n",
      "FCE\n",
      "FCF\n",
      "FCG\n",
      "FCH\n",
      "FDA\n",
      "FDB\n",
      "FDC\n",
      "FDD\n",
      "FDE\n",
      "FDF\n",
      "FDG\n",
      "FDH\n",
      "FEA\n",
      "FEB\n",
      "FEC\n",
      "FED\n",
      "FEE\n",
      "FEF\n",
      "FEG\n",
      "FEH\n",
      "FFA\n",
      "FFB\n",
      "FFC\n",
      "FFD\n",
      "FFE\n",
      "FFF\n",
      "FFG\n",
      "FFH\n",
      "FGA\n",
      "FGB\n",
      "FGC\n",
      "FGD\n",
      "FGE\n",
      "FGF\n",
      "FGG\n",
      "FGH\n",
      "FHA\n",
      "FHB\n",
      "FHC\n",
      "FHD\n",
      "FHE\n",
      "FHF\n",
      "FHG\n",
      "FHH\n",
      "GAA\n",
      "GAB\n",
      "GAC\n",
      "GAD\n",
      "GAE\n",
      "GAF\n",
      "GAG\n",
      "GAH\n",
      "GBA\n",
      "GBB\n",
      "GBC\n",
      "GBD\n",
      "GBE\n",
      "GBF\n",
      "GBG\n",
      "GBH\n",
      "GCA\n",
      "GCB\n",
      "GCC\n",
      "GCD\n",
      "GCE\n",
      "GCF\n",
      "GCG\n",
      "GCH\n",
      "GDA\n",
      "GDB\n",
      "GDC\n",
      "GDD\n",
      "GDE\n",
      "GDF\n",
      "GDG\n",
      "GDH\n",
      "GEA\n",
      "GEB\n",
      "GEC\n",
      "GED\n",
      "GEE\n",
      "GEF\n",
      "GEG\n",
      "GEH\n",
      "GFA\n",
      "GFB\n",
      "GFC\n",
      "GFD\n",
      "GFE\n",
      "GFF\n",
      "GFG\n",
      "GFH\n",
      "GGA\n",
      "GGB\n",
      "GGC\n",
      "GGD\n",
      "GGE\n",
      "GGF\n",
      "GGG\n",
      "GGH\n",
      "GHA\n",
      "GHB\n",
      "GHC\n",
      "GHD\n",
      "GHE\n",
      "GHF\n",
      "GHG\n",
      "GHH\n",
      "HAA\n",
      "HAB\n",
      "HAC\n",
      "HAD\n",
      "HAE\n",
      "HAF\n",
      "HAG\n",
      "HAH\n",
      "HBA\n",
      "HBB\n",
      "HBC\n",
      "HBD\n",
      "HBE\n",
      "HBF\n",
      "HBG\n",
      "HBH\n",
      "HCA\n",
      "HCB\n",
      "HCC\n",
      "HCD\n",
      "HCE\n",
      "HCF\n",
      "HCG\n",
      "HCH\n",
      "HDA\n",
      "HDB\n",
      "HDC\n",
      "HDD\n",
      "HDE\n",
      "HDF\n",
      "HDG\n",
      "HDH\n",
      "HEA\n",
      "HEB\n",
      "HEC\n",
      "HED\n",
      "HEE\n",
      "HEF\n",
      "HEG\n",
      "HEH\n",
      "HFA\n",
      "HFB\n",
      "HFC\n",
      "HFD\n",
      "HFE\n",
      "HFF\n",
      "HFG\n",
      "HFH\n",
      "HGA\n",
      "HGB\n",
      "HGC\n",
      "HGD\n",
      "HGE\n",
      "HGF\n",
      "HGG\n",
      "HGH\n",
      "HHA\n",
      "HHB\n",
      "HHC\n",
      "HHD\n",
      "HHE\n",
      "HHF\n",
      "HHG\n",
      "HHH\n"
     ]
    }
   ],
   "source": [
    "lis = sorted(['A','B','C','D','E','F','G','H'])\n",
    "for aa in product(lis,repeat = 3):\n",
    "    print(''.join(aa))"
   ]
  },
  {
   "cell_type": "markdown",
   "id": "b8821cb3-6b60-43f7-82fa-b55fce8b3053",
   "metadata": {},
   "source": [
    "## Longest Increasing Subsequence"
   ]
  },
  {
   "cell_type": "code",
   "execution_count": 49,
   "id": "3c46ca0a-2818-4888-882a-a8743f120bcc",
   "metadata": {
    "tags": []
   },
   "outputs": [],
   "source": [
    "nums = '5 1 4 2 3'"
   ]
  },
  {
   "cell_type": "code",
   "execution_count": 50,
   "id": "94e62da3-5eaf-4001-adc3-97d48b0aa190",
   "metadata": {
    "tags": []
   },
   "outputs": [],
   "source": [
    "def longest_subsequence(s):\n",
    "    nums = [int(x) for x in s.split()]\n",
    "\n",
    "    # 最長の昇順と降順のサブシーケンスを見つける関数\n",
    "    def dp_longest_sub(nums, ascending=True):\n",
    "        if not nums:\n",
    "            return []\n",
    "        \n",
    "        dp = [[nums[i]] for i in range(len(nums))]\n",
    "\n",
    "        for i in range(len(nums)):\n",
    "            for j in range(i):\n",
    "                if (ascending and nums[i] > nums[j]) or (not ascending and nums[i] < nums[j]):\n",
    "                    if len(dp[j]) + 1 > len(dp[i]):\n",
    "                        dp[i] = dp[j] + [nums[i]]\n",
    "                        \n",
    "        longest = max(dp, key=len)\n",
    "        return \" \".join(map(str, longest))\n",
    "\n",
    "    longest_asc = dp_longest_sub(nums, ascending=True)\n",
    "    longest_desc = dp_longest_sub(nums, ascending=False)\n",
    "\n",
    "    return longest_asc, longest_desc\n",
    "\n"
   ]
  },
  {
   "cell_type": "code",
   "execution_count": 51,
   "id": "6665b2e4-5586-4945-b188-c5daa827e753",
   "metadata": {
    "tags": []
   },
   "outputs": [
    {
     "data": {
      "text/plain": [
       "('1 2 3', '5 4 2')"
      ]
     },
     "execution_count": 51,
     "metadata": {},
     "output_type": "execute_result"
    }
   ],
   "source": [
    "longest_subsequence(nums)"
   ]
  },
  {
   "cell_type": "markdown",
   "id": "c00a755d-a31c-4c5d-8fa6-86a8a1ce2e91",
   "metadata": {},
   "source": [
    "### apply to data"
   ]
  },
  {
   "cell_type": "code",
   "execution_count": 55,
   "id": "ae2c00a1-65ce-477a-8f3b-48504efe3a95",
   "metadata": {
    "tags": []
   },
   "outputs": [],
   "source": [
    "lis=[]\n",
    "with open('./data/rosalind_lgis.txt') as f:\n",
    "    lines = f.read()\n",
    "    for l in lines.split(\"\\n\"):\n",
    "        lis.append(l)"
   ]
  },
  {
   "cell_type": "code",
   "execution_count": 56,
   "id": "b81abf07-f182-4a29-b2ee-f10f99b67feb",
   "metadata": {
    "tags": []
   },
   "outputs": [
    {
     "data": {
      "text/plain": [
       "'9808'"
      ]
     },
     "execution_count": 56,
     "metadata": {},
     "output_type": "execute_result"
    }
   ],
   "source": [
    "lis[0]"
   ]
  },
  {
   "cell_type": "code",
   "execution_count": 57,
   "id": "f8c65842-c920-4dd1-b16f-2849e01b0610",
   "metadata": {},
   "outputs": [
    {
     "data": {
      "text/plain": [
       "('27 54 141 145 265 370 457 531 547 568 584 608 628 695 722 726 775 777 821 859 1052 1116 1133 1152 1221 1239 1269 1480 1560 1655 1675 1687 1771 1862 1892 1934 1941 1948 1980 2010 2043 2108 2152 2260 2286 2335 2381 2440 2525 2591 2609 2618 2688 2725 2766 2832 2921 3090 3099 3194 3224 3266 3417 3472 3477 3511 3550 3564 3608 3620 3647 3648 3688 3709 3727 3742 3764 3821 3871 3886 3930 3952 3977 4142 4167 4363 4429 4462 4491 4530 4655 4663 4825 4840 4843 4901 4936 4992 5008 5045 5074 5076 5199 5215 5242 5248 5295 5301 5330 5343 5357 5375 5395 5401 5413 5425 5449 5614 5624 5702 5710 5730 5782 5866 5924 6007 6038 6079 6081 6130 6191 6285 6354 6406 6448 6483 6497 6514 6580 6654 6664 6760 6889 7014 7073 7116 7206 7221 7241 7270 7321 7364 7436 7480 7544 7556 7563 7567 7603 7613 7618 7635 7663 7702 7717 7751 7823 7825 7835 7949 7989 8079 8202 8236 8342 8586 8594 8685 8748 8800 8804 8824 9073 9158 9262 9264 9276 9447 9450 9527 9529 9557 9609 9620 9625 9661',\n",
       " '9756 9749 9718 9595 9558 9553 9539 9491 9422 9323 9317 9281 9245 9235 9210 9096 9062 9057 8910 8886 8881 8872 8818 8812 8678 8661 8550 8457 8420 8393 8324 8238 8225 8189 8186 7906 7892 7830 7797 7745 7706 7696 7682 7681 7558 7481 7454 7439 7408 7356 7327 7319 7196 7180 7114 6997 6988 6984 6841 6796 6780 6745 6452 6278 6224 6115 6095 6073 6066 5972 5833 5828 5821 5791 5709 5652 5585 5579 5494 5288 5263 5258 5212 5154 5055 5052 4969 4965 4933 4920 4871 4825 4762 4732 4708 4675 4571 4538 4521 4421 4378 4326 4322 4280 4233 4121 3999 3848 3840 3805 3703 3680 3617 3307 3208 3044 2910 2878 2817 2779 2653 2606 2503 2320 2250 2229 2115 2089 2068 2000 1958 1929 1918 1910 1880 1823 1754 1696 1588 1537 1521 1430 1372 1359 1325 1245 1175 1168 1141 943 899 856 841 780 724 679 648 641 611 579 576 543 528 512 443 422 397 360 355 350 345 320 307 281 259 248 204 181 150 118 106 81 72 51 32 4')"
      ]
     },
     "execution_count": 57,
     "metadata": {},
     "output_type": "execute_result"
    }
   ],
   "source": [
    "longest_subsequence(lis[1])"
   ]
  },
  {
   "cell_type": "markdown",
   "id": "465dbbd0-ce2b-4feb-b047-bc7dcb1d19b9",
   "metadata": {},
   "source": [
    "## Genome Assembly as Shortest Superstring"
   ]
  },
  {
   "cell_type": "code",
   "execution_count": 3,
   "id": "4c883235-9c82-48d1-bc41-e1728fab55b2",
   "metadata": {
    "tags": []
   },
   "outputs": [],
   "source": [
    "records = SeqIO.parse('./data/test/rosalind_GS_test.txt','fasta')\n",
    "reads = []\n",
    "for rec in records:\n",
    "    reads.append(rec.seq)"
   ]
  },
  {
   "cell_type": "code",
   "execution_count": 4,
   "id": "8a229dc6-3c4b-480b-b31f-dd63f556633a",
   "metadata": {
    "tags": []
   },
   "outputs": [
    {
     "data": {
      "text/plain": [
       "[Seq('ATTAGACCTG'), Seq('CCTGCCGGAA'), Seq('AGACCTGCCG'), Seq('GCCGGAATAC')]"
      ]
     },
     "execution_count": 4,
     "metadata": {},
     "output_type": "execute_result"
    }
   ],
   "source": [
    "reads"
   ]
  },
  {
   "cell_type": "code",
   "execution_count": 5,
   "id": "ec649ba1-1c59-4adf-9ee3-be7fa56c02ed",
   "metadata": {
    "tags": []
   },
   "outputs": [
    {
     "ename": "NameError",
     "evalue": "name 'sequences' is not defined",
     "output_type": "error",
     "traceback": [
      "\u001b[0;31m---------------------------------------------------------------------------\u001b[0m",
      "\u001b[0;31mNameError\u001b[0m                                 Traceback (most recent call last)",
      "Cell \u001b[0;32mIn[5], line 5\u001b[0m\n\u001b[1;32m      2\u001b[0m newseq \u001b[38;5;241m=\u001b[39m []\n\u001b[1;32m      4\u001b[0m \u001b[38;5;66;03m# sequencesの最後の要素を除いたすべてに対してループ\u001b[39;00m\n\u001b[0;32m----> 5\u001b[0m \u001b[38;5;28;01mfor\u001b[39;00m i \u001b[38;5;129;01min\u001b[39;00m \u001b[38;5;28mrange\u001b[39m(\u001b[38;5;28mlen\u001b[39m(sequences) \u001b[38;5;241m-\u001b[39m \u001b[38;5;241m1\u001b[39m):\n\u001b[1;32m      6\u001b[0m     current \u001b[38;5;241m=\u001b[39m \u001b[38;5;28mstr\u001b[39m(sequences[i])\n\u001b[1;32m      7\u001b[0m     next_seq \u001b[38;5;241m=\u001b[39m \u001b[38;5;28mstr\u001b[39m(sequences[i\u001b[38;5;241m+\u001b[39m\u001b[38;5;241m1\u001b[39m])\n",
      "\u001b[0;31mNameError\u001b[0m: name 'sequences' is not defined"
     ]
    }
   ],
   "source": [
    "overlaps = []\n",
    "newseq = []\n",
    "\n",
    "# sequencesの最後の要素を除いたすべてに対してループ\n",
    "for i in range(len(sequences) - 1):\n",
    "    current = str(sequences[i])\n",
    "    next_seq = str(sequences[i+1])\n",
    "    longest_overlap = \"\"\n",
    "    \n",
    "    # 現在のシーケンスの各サブシーケンスに対してループ\n",
    "    for j in range(1, len(current) + 1):\n",
    "        # 現在のシーケンスの末尾の部分文字列を取得\n",
    "        suffix = current[-j:]\n",
    "        # 次のシーケンスの先頭の部分文字列がsuffixと一致するか確認\n",
    "        if next_seq.startswith(suffix) and len(suffix) > len(longest_overlap):\n",
    "            longest_overlap = suffix\n",
    "            \n",
    "    # 最長のオーバーラップが見つかった場合、結果に追加\n",
    "    if longest_overlap:\n",
    "        overlaps.append(longest_overlap)\n",
    "        pre = current.replace(longest_overlap, '', 1)\n",
    "        post = next_seq.replace(longest_overlap, '', 1)\n",
    "        newseq.append(pre + longest_overlap + post)"
   ]
  },
  {
   "cell_type": "code",
   "execution_count": 107,
   "id": "dab3020d-9d12-4762-8a33-8407120c526b",
   "metadata": {
    "tags": []
   },
   "outputs": [
    {
     "name": "stdout",
     "output_type": "stream",
     "text": [
      "ATTAGACCTGCCGGAATAC\n"
     ]
    }
   ],
   "source": [
    "overlaps = []\n",
    "overlapping = []\n",
    "for i in range(len(reads)):\n",
    "    curr_read = reads[i]\n",
    "    for j in range(len(curr_read) // 2, len(curr_read)):\n",
    "        curr_suffix = curr_read[-(j + 1):]\n",
    "        for k in range(len(reads)):\n",
    "            curr_comp = reads[k]\n",
    "            for l in range(len(curr_comp) // 2, len(curr_comp)):\n",
    "                curr_prefix = curr_comp[:l]\n",
    "                if curr_suffix == curr_prefix:\n",
    "                    overlaps.append(k)\n",
    "                    overlapping.append([len(curr_suffix), i, k])\n",
    "\n",
    "s = set(overlaps)\n",
    "first_read = ''\n",
    "count = len(overlapping)\n",
    "for m in range(len(overlapping)):\n",
    "    suf_index = overlapping[m][1]\n",
    "    if suf_index not in s:           #find first read and initialise new str\n",
    "        first_read = suf_index\n",
    "        new_str = reads[overlapping[m][1]] + reads[overlapping[m][2]][\n",
    "            overlapping[m][0]:]\n",
    "        count -= 1\n",
    "        pref_index = overlapping[m][2]\n",
    "        while count > 0:                       #when the first read is found, add \n",
    "            for n in range(len(overlapping)):  #the remaining in the correct order\n",
    "                if pref_index == overlapping[n][1]:\n",
    "                    new_str += reads[overlapping[n][2]][overlapping[n][0]:]\n",
    "                    pref_index = overlapping[n][2]\n",
    "                    count -= 1\n",
    "\n",
    "print(new_str)"
   ]
  },
  {
   "cell_type": "code",
   "execution_count": 6,
   "id": "6ad6be47-4138-48e2-990e-b3b8ecbd316e",
   "metadata": {
    "tags": []
   },
   "outputs": [
    {
     "ename": "NameError",
     "evalue": "name 'overlapping' is not defined",
     "output_type": "error",
     "traceback": [
      "\u001b[0;31m---------------------------------------------------------------------------\u001b[0m",
      "\u001b[0;31mNameError\u001b[0m                                 Traceback (most recent call last)",
      "Cell \u001b[0;32mIn[6], line 1\u001b[0m\n\u001b[0;32m----> 1\u001b[0m overlapping\n",
      "\u001b[0;31mNameError\u001b[0m: name 'overlapping' is not defined"
     ]
    }
   ],
   "source": [
    "overlapping"
   ]
  },
  {
   "cell_type": "markdown",
   "id": "a10707f1-6035-4f97-9337-c26cf89437bb",
   "metadata": {},
   "source": [
    "### Apply to data"
   ]
  },
  {
   "cell_type": "code",
   "execution_count": 9,
   "id": "f4b48ba8-0961-4fb2-af62-02b81dd4b39e",
   "metadata": {
    "tags": []
   },
   "outputs": [],
   "source": [
    "records = SeqIO.parse('./data/rosalind_long.txt','fasta')\n",
    "reads = []\n",
    "for rec in records:\n",
    "    reads.append(rec.seq)"
   ]
  },
  {
   "cell_type": "code",
   "execution_count": 10,
   "id": "8b357368-6126-4120-9bc6-9fd96683a5ae",
   "metadata": {},
   "outputs": [
    {
     "ename": "KeyboardInterrupt",
     "evalue": "",
     "output_type": "error",
     "traceback": [
      "\u001b[0;31m---------------------------------------------------------------------------\u001b[0m",
      "\u001b[0;31mKeyboardInterrupt\u001b[0m                         Traceback (most recent call last)",
      "Cell \u001b[0;32mIn[10], line 10\u001b[0m\n\u001b[1;32m      8\u001b[0m curr_comp \u001b[38;5;241m=\u001b[39m reads[k]\n\u001b[1;32m      9\u001b[0m \u001b[38;5;28;01mfor\u001b[39;00m l \u001b[38;5;129;01min\u001b[39;00m \u001b[38;5;28mrange\u001b[39m(\u001b[38;5;28mlen\u001b[39m(curr_comp) \u001b[38;5;241m/\u001b[39m\u001b[38;5;241m/\u001b[39m \u001b[38;5;241m2\u001b[39m, \u001b[38;5;28mlen\u001b[39m(curr_comp)):\n\u001b[0;32m---> 10\u001b[0m     curr_prefix \u001b[38;5;241m=\u001b[39m curr_comp[:l]\n\u001b[1;32m     11\u001b[0m     \u001b[38;5;28;01mif\u001b[39;00m curr_suffix \u001b[38;5;241m==\u001b[39m curr_prefix:\n\u001b[1;32m     12\u001b[0m         overlaps\u001b[38;5;241m.\u001b[39mappend(k)\n",
      "File \u001b[0;32m/opt/anaconda3/lib/python3.11/site-packages/Bio/Seq.py:505\u001b[0m, in \u001b[0;36m_SeqAbstractBaseClass.__getitem__\u001b[0;34m(self, index)\u001b[0m\n\u001b[1;32m    501\u001b[0m \u001b[38;5;129m@overload\u001b[39m\n\u001b[1;32m    502\u001b[0m \u001b[38;5;28;01mdef\u001b[39;00m \u001b[38;5;21m__getitem__\u001b[39m(\u001b[38;5;28mself\u001b[39m, index: \u001b[38;5;28mslice\u001b[39m) \u001b[38;5;241m-\u001b[39m\u001b[38;5;241m>\u001b[39m \u001b[38;5;124m\"\u001b[39m\u001b[38;5;124mSeq\u001b[39m\u001b[38;5;124m\"\u001b[39m:\n\u001b[1;32m    503\u001b[0m     \u001b[38;5;241m.\u001b[39m\u001b[38;5;241m.\u001b[39m\u001b[38;5;241m.\u001b[39m\n\u001b[0;32m--> 505\u001b[0m \u001b[38;5;28;01mdef\u001b[39;00m \u001b[38;5;21m__getitem__\u001b[39m(\u001b[38;5;28mself\u001b[39m, index):\n\u001b[1;32m    506\u001b[0m \u001b[38;5;250m    \u001b[39m\u001b[38;5;124;03m\"\"\"Return a subsequence as a single letter or as a sequence object.\u001b[39;00m\n\u001b[1;32m    507\u001b[0m \n\u001b[1;32m    508\u001b[0m \u001b[38;5;124;03m    If the index is an integer, a single letter is returned as a Python\u001b[39;00m\n\u001b[0;32m   (...)\u001b[0m\n\u001b[1;32m    521\u001b[0m \u001b[38;5;124;03m    MutableSeq('ACG')\u001b[39;00m\n\u001b[1;32m    522\u001b[0m \u001b[38;5;124;03m    \"\"\"\u001b[39;00m\n\u001b[1;32m    523\u001b[0m     \u001b[38;5;28;01mif\u001b[39;00m \u001b[38;5;28misinstance\u001b[39m(index, numbers\u001b[38;5;241m.\u001b[39mIntegral):\n\u001b[1;32m    524\u001b[0m         \u001b[38;5;66;03m# Return a single letter as a string\u001b[39;00m\n",
      "\u001b[0;31mKeyboardInterrupt\u001b[0m: "
     ]
    }
   ],
   "source": [
    "overlaps = []\n",
    "overlapping = []\n",
    "for i in range(len(reads)):\n",
    "    curr_read = reads[i]\n",
    "    for j in range(len(curr_read) // 2, len(curr_read)):\n",
    "        curr_suffix = curr_read[-(j + 1):]\n",
    "        for k in range(len(reads)):\n",
    "            curr_comp = reads[k]\n",
    "            for l in range(len(curr_comp) // 2, len(curr_comp)):\n",
    "                curr_prefix = curr_comp[:l]\n",
    "                if curr_suffix == curr_prefix:\n",
    "                    overlaps.append(k)\n",
    "                    overlapping.append([len(curr_suffix), i, k])\n",
    "\n",
    "s = set(overlaps)\n",
    "first_read = ''\n",
    "count = len(overlapping)\n",
    "for m in range(len(overlapping)):\n",
    "    suf_index = overlapping[m][1]\n",
    "    if suf_index not in s:           #find first read and initialise new str\n",
    "        first_read = suf_index\n",
    "        new_str = reads[overlapping[m][1]] + reads[overlapping[m][2]][\n",
    "            overlapping[m][0]:]\n",
    "        count -= 1\n",
    "        pref_index = overlapping[m][2]\n",
    "        while count > 0:                       #when the first read is found, add \n",
    "            for n in range(len(overlapping)):  #the remaining in the correct order\n",
    "                if pref_index == overlapping[n][1]:\n",
    "                    new_str += reads[overlapping[n][2]][overlapping[n][0]:]\n",
    "                    pref_index = overlapping[n][2]\n",
    "                    count -= 1\n",
    "\n",
    "print(new_str)"
   ]
  },
  {
   "cell_type": "code",
   "execution_count": 8,
   "id": "00ca9bd2-01eb-4e6e-aead-f42c34fc0bbc",
   "metadata": {
    "tags": []
   },
   "outputs": [
    {
     "name": "stderr",
     "output_type": "stream",
     "text": [
      "Process SpawnPoolWorker-1:\n",
      "Traceback (most recent call last):\n",
      "  File \"/opt/anaconda3/lib/python3.11/multiprocessing/process.py\", line 314, in _bootstrap\n",
      "    self.run()\n",
      "  File \"/opt/anaconda3/lib/python3.11/multiprocessing/process.py\", line 108, in run\n",
      "    self._target(*self._args, **self._kwargs)\n",
      "  File \"/opt/anaconda3/lib/python3.11/multiprocessing/pool.py\", line 114, in worker\n",
      "    task = get()\n",
      "           ^^^^^\n",
      "  File \"/opt/anaconda3/lib/python3.11/multiprocessing/queues.py\", line 367, in get\n",
      "    return _ForkingPickler.loads(res)\n",
      "           ^^^^^^^^^^^^^^^^^^^^^^^^^^\n",
      "AttributeError: Can't get attribute 'find_overlaps' on <module '__main__' (built-in)>\n",
      "Process SpawnPoolWorker-5:\n",
      "Process SpawnPoolWorker-4:\n",
      "Process SpawnPoolWorker-3:\n",
      "Process SpawnPoolWorker-2:\n",
      "Traceback (most recent call last):\n",
      "Traceback (most recent call last):\n",
      "Traceback (most recent call last):\n",
      "Traceback (most recent call last):\n",
      "  File \"/opt/anaconda3/lib/python3.11/multiprocessing/process.py\", line 314, in _bootstrap\n",
      "    self.run()\n",
      "  File \"/opt/anaconda3/lib/python3.11/multiprocessing/process.py\", line 108, in run\n",
      "    self._target(*self._args, **self._kwargs)\n",
      "  File \"/opt/anaconda3/lib/python3.11/multiprocessing/pool.py\", line 114, in worker\n",
      "    task = get()\n",
      "           ^^^^^\n",
      "  File \"/opt/anaconda3/lib/python3.11/multiprocessing/queues.py\", line 364, in get\n",
      "    with self._rlock:\n",
      "  File \"/opt/anaconda3/lib/python3.11/multiprocessing/synchronize.py\", line 95, in __enter__\n",
      "    return self._semlock.__enter__()\n",
      "           ^^^^^^^^^^^^^^^^^^^^^^^^^\n",
      "KeyboardInterrupt\n",
      "  File \"/opt/anaconda3/lib/python3.11/multiprocessing/process.py\", line 314, in _bootstrap\n",
      "    self.run()\n",
      "  File \"/opt/anaconda3/lib/python3.11/multiprocessing/process.py\", line 108, in run\n",
      "    self._target(*self._args, **self._kwargs)\n",
      "  File \"/opt/anaconda3/lib/python3.11/multiprocessing/pool.py\", line 114, in worker\n",
      "    task = get()\n",
      "           ^^^^^\n",
      "  File \"/opt/anaconda3/lib/python3.11/multiprocessing/queues.py\", line 364, in get\n",
      "    with self._rlock:\n",
      "  File \"/opt/anaconda3/lib/python3.11/multiprocessing/synchronize.py\", line 95, in __enter__\n",
      "    return self._semlock.__enter__()\n",
      "           ^^^^^^^^^^^^^^^^^^^^^^^^^\n",
      "KeyboardInterrupt\n",
      "  File \"/opt/anaconda3/lib/python3.11/multiprocessing/process.py\", line 314, in _bootstrap\n",
      "    self.run()\n",
      "  File \"/opt/anaconda3/lib/python3.11/multiprocessing/process.py\", line 108, in run\n",
      "    self._target(*self._args, **self._kwargs)\n",
      "  File \"/opt/anaconda3/lib/python3.11/multiprocessing/pool.py\", line 114, in worker\n",
      "    task = get()\n",
      "           ^^^^^\n",
      "  File \"/opt/anaconda3/lib/python3.11/multiprocessing/queues.py\", line 365, in get\n",
      "    res = self._reader.recv_bytes()\n",
      "          ^^^^^^^^^^^^^^^^^^^^^^^^^\n",
      "  File \"/opt/anaconda3/lib/python3.11/multiprocessing/connection.py\", line 216, in recv_bytes\n",
      "    buf = self._recv_bytes(maxlength)\n",
      "          ^^^^^^^^^^^^^^^^^^^^^^^^^^^\n",
      "  File \"/opt/anaconda3/lib/python3.11/multiprocessing/connection.py\", line 430, in _recv_bytes\n",
      "    buf = self._recv(4)\n",
      "          ^^^^^^^^^^^^^\n",
      "  File \"/opt/anaconda3/lib/python3.11/multiprocessing/connection.py\", line 395, in _recv\n",
      "    chunk = read(handle, remaining)\n",
      "            ^^^^^^^^^^^^^^^^^^^^^^^\n",
      "KeyboardInterrupt\n",
      "  File \"/opt/anaconda3/lib/python3.11/multiprocessing/process.py\", line 314, in _bootstrap\n",
      "    self.run()\n",
      "  File \"/opt/anaconda3/lib/python3.11/multiprocessing/process.py\", line 108, in run\n",
      "    self._target(*self._args, **self._kwargs)\n",
      "  File \"/opt/anaconda3/lib/python3.11/multiprocessing/pool.py\", line 114, in worker\n",
      "    task = get()\n",
      "           ^^^^^\n",
      "  File \"/opt/anaconda3/lib/python3.11/multiprocessing/queues.py\", line 364, in get\n",
      "    with self._rlock:\n",
      "  File \"/opt/anaconda3/lib/python3.11/multiprocessing/synchronize.py\", line 95, in __enter__\n",
      "    return self._semlock.__enter__()\n",
      "           ^^^^^^^^^^^^^^^^^^^^^^^^^\n",
      "KeyboardInterrupt\n"
     ]
    },
    {
     "ename": "KeyboardInterrupt",
     "evalue": "",
     "output_type": "error",
     "traceback": [
      "\u001b[0;31m---------------------------------------------------------------------------\u001b[0m",
      "\u001b[0;31mKeyboardInterrupt\u001b[0m                         Traceback (most recent call last)",
      "Cell \u001b[0;32mIn[8], line 42\u001b[0m\n\u001b[1;32m     39\u001b[0m reads \u001b[38;5;241m=\u001b[39m [\u001b[38;5;241m.\u001b[39m\u001b[38;5;241m.\u001b[39m\u001b[38;5;241m.\u001b[39m]  \u001b[38;5;66;03m# リードのリストを初期化\u001b[39;00m\n\u001b[1;32m     41\u001b[0m \u001b[38;5;28;01mwith\u001b[39;00m multiprocessing\u001b[38;5;241m.\u001b[39mPool(processes\u001b[38;5;241m=\u001b[39m\u001b[38;5;241m4\u001b[39m) \u001b[38;5;28;01mas\u001b[39;00m pool:\n\u001b[0;32m---> 42\u001b[0m     results \u001b[38;5;241m=\u001b[39m pool\u001b[38;5;241m.\u001b[39mstarmap(find_overlaps, [(reads, i) \u001b[38;5;28;01mfor\u001b[39;00m i \u001b[38;5;129;01min\u001b[39;00m \u001b[38;5;28mrange\u001b[39m(\u001b[38;5;28mlen\u001b[39m(reads))])\n\u001b[1;32m     44\u001b[0m overlaps, overlapping \u001b[38;5;241m=\u001b[39m \u001b[38;5;28mzip\u001b[39m(\u001b[38;5;241m*\u001b[39mresults)\n\u001b[1;32m     45\u001b[0m overlaps \u001b[38;5;241m=\u001b[39m [item \u001b[38;5;28;01mfor\u001b[39;00m sublist \u001b[38;5;129;01min\u001b[39;00m overlaps \u001b[38;5;28;01mfor\u001b[39;00m item \u001b[38;5;129;01min\u001b[39;00m sublist]\n",
      "File \u001b[0;32m/opt/anaconda3/lib/python3.11/multiprocessing/pool.py:375\u001b[0m, in \u001b[0;36mPool.starmap\u001b[0;34m(self, func, iterable, chunksize)\u001b[0m\n\u001b[1;32m    369\u001b[0m \u001b[38;5;28;01mdef\u001b[39;00m \u001b[38;5;21mstarmap\u001b[39m(\u001b[38;5;28mself\u001b[39m, func, iterable, chunksize\u001b[38;5;241m=\u001b[39m\u001b[38;5;28;01mNone\u001b[39;00m):\n\u001b[1;32m    370\u001b[0m \u001b[38;5;250m    \u001b[39m\u001b[38;5;124;03m'''\u001b[39;00m\n\u001b[1;32m    371\u001b[0m \u001b[38;5;124;03m    Like `map()` method but the elements of the `iterable` are expected to\u001b[39;00m\n\u001b[1;32m    372\u001b[0m \u001b[38;5;124;03m    be iterables as well and will be unpacked as arguments. Hence\u001b[39;00m\n\u001b[1;32m    373\u001b[0m \u001b[38;5;124;03m    `func` and (a, b) becomes func(a, b).\u001b[39;00m\n\u001b[1;32m    374\u001b[0m \u001b[38;5;124;03m    '''\u001b[39;00m\n\u001b[0;32m--> 375\u001b[0m     \u001b[38;5;28;01mreturn\u001b[39;00m \u001b[38;5;28mself\u001b[39m\u001b[38;5;241m.\u001b[39m_map_async(func, iterable, starmapstar, chunksize)\u001b[38;5;241m.\u001b[39mget()\n",
      "File \u001b[0;32m/opt/anaconda3/lib/python3.11/multiprocessing/pool.py:768\u001b[0m, in \u001b[0;36mApplyResult.get\u001b[0;34m(self, timeout)\u001b[0m\n\u001b[1;32m    767\u001b[0m \u001b[38;5;28;01mdef\u001b[39;00m \u001b[38;5;21mget\u001b[39m(\u001b[38;5;28mself\u001b[39m, timeout\u001b[38;5;241m=\u001b[39m\u001b[38;5;28;01mNone\u001b[39;00m):\n\u001b[0;32m--> 768\u001b[0m     \u001b[38;5;28mself\u001b[39m\u001b[38;5;241m.\u001b[39mwait(timeout)\n\u001b[1;32m    769\u001b[0m     \u001b[38;5;28;01mif\u001b[39;00m \u001b[38;5;129;01mnot\u001b[39;00m \u001b[38;5;28mself\u001b[39m\u001b[38;5;241m.\u001b[39mready():\n\u001b[1;32m    770\u001b[0m         \u001b[38;5;28;01mraise\u001b[39;00m \u001b[38;5;167;01mTimeoutError\u001b[39;00m\n",
      "File \u001b[0;32m/opt/anaconda3/lib/python3.11/multiprocessing/pool.py:765\u001b[0m, in \u001b[0;36mApplyResult.wait\u001b[0;34m(self, timeout)\u001b[0m\n\u001b[1;32m    764\u001b[0m \u001b[38;5;28;01mdef\u001b[39;00m \u001b[38;5;21mwait\u001b[39m(\u001b[38;5;28mself\u001b[39m, timeout\u001b[38;5;241m=\u001b[39m\u001b[38;5;28;01mNone\u001b[39;00m):\n\u001b[0;32m--> 765\u001b[0m     \u001b[38;5;28mself\u001b[39m\u001b[38;5;241m.\u001b[39m_event\u001b[38;5;241m.\u001b[39mwait(timeout)\n",
      "File \u001b[0;32m/opt/anaconda3/lib/python3.11/threading.py:629\u001b[0m, in \u001b[0;36mEvent.wait\u001b[0;34m(self, timeout)\u001b[0m\n\u001b[1;32m    627\u001b[0m signaled \u001b[38;5;241m=\u001b[39m \u001b[38;5;28mself\u001b[39m\u001b[38;5;241m.\u001b[39m_flag\n\u001b[1;32m    628\u001b[0m \u001b[38;5;28;01mif\u001b[39;00m \u001b[38;5;129;01mnot\u001b[39;00m signaled:\n\u001b[0;32m--> 629\u001b[0m     signaled \u001b[38;5;241m=\u001b[39m \u001b[38;5;28mself\u001b[39m\u001b[38;5;241m.\u001b[39m_cond\u001b[38;5;241m.\u001b[39mwait(timeout)\n\u001b[1;32m    630\u001b[0m \u001b[38;5;28;01mreturn\u001b[39;00m signaled\n",
      "File \u001b[0;32m/opt/anaconda3/lib/python3.11/threading.py:327\u001b[0m, in \u001b[0;36mCondition.wait\u001b[0;34m(self, timeout)\u001b[0m\n\u001b[1;32m    325\u001b[0m \u001b[38;5;28;01mtry\u001b[39;00m:    \u001b[38;5;66;03m# restore state no matter what (e.g., KeyboardInterrupt)\u001b[39;00m\n\u001b[1;32m    326\u001b[0m     \u001b[38;5;28;01mif\u001b[39;00m timeout \u001b[38;5;129;01mis\u001b[39;00m \u001b[38;5;28;01mNone\u001b[39;00m:\n\u001b[0;32m--> 327\u001b[0m         waiter\u001b[38;5;241m.\u001b[39macquire()\n\u001b[1;32m    328\u001b[0m         gotit \u001b[38;5;241m=\u001b[39m \u001b[38;5;28;01mTrue\u001b[39;00m\n\u001b[1;32m    329\u001b[0m     \u001b[38;5;28;01melse\u001b[39;00m:\n",
      "\u001b[0;31mKeyboardInterrupt\u001b[0m: "
     ]
    }
   ],
   "source": [
    "import multiprocessing\n",
    "\n",
    "def find_overlaps(reads, i):\n",
    "    curr_read = reads[i]\n",
    "    overlaps = []\n",
    "    overlapping = []\n",
    "    for j in range(len(curr_read) // 2, len(curr_read)):\n",
    "        curr_suffix = curr_read[-(j + 1):]\n",
    "        for k in range(len(reads)):\n",
    "            curr_comp = reads[k]\n",
    "            for l in range(len(curr_comp) // 2, len(curr_comp)):\n",
    "                curr_prefix = curr_comp[:l]\n",
    "                if curr_suffix == curr_prefix:\n",
    "                    overlaps.append(k)\n",
    "                    overlapping.append([len(curr_suffix), i, k])\n",
    "    return overlaps, overlapping\n",
    "\n",
    "def assemble_sequence(overlapping, reads):\n",
    "    s = set(overlaps for overlaps, _ in overlapping)\n",
    "    first_read = ''\n",
    "    count = len(overlapping)\n",
    "    new_str = ''\n",
    "    for m in range(len(overlapping)):\n",
    "        suf_index = overlapping[m][1]\n",
    "        if suf_index not in s:\n",
    "            first_read = suf_index\n",
    "            new_str = reads[overlapping[m][1]] + reads[overlapping[m][2]][overlapping[m][0]:]\n",
    "            count -= 1\n",
    "            pref_index = overlapping[m][2]\n",
    "            while count > 0:\n",
    "                for n in range(len(overlapping)):\n",
    "                    if pref_index == overlapping[n][1]:\n",
    "                        new_str += reads[overlapping[n][2]][overlapping[n][0]:]\n",
    "                        pref_index = overlapping[n][2]\n",
    "                        count -= 1\n",
    "    return new_str\n",
    "\n",
    "if __name__ == '__main__':\n",
    "    reads = [...]  # リードのリストを初期化\n",
    "    \n",
    "    with multiprocessing.Pool(processes=4) as pool:\n",
    "        results = pool.starmap(find_overlaps, [(reads, i) for i in range(len(reads))])\n",
    "    \n",
    "    overlaps, overlapping = zip(*results)\n",
    "    overlaps = [item for sublist in overlaps for item in sublist]\n",
    "    overlapping = [item for sublist in overlapping for item in sublist]\n",
    "    \n",
    "    new_str = assemble_sequence(overlapping, reads)\n",
    "    print(new_str)"
   ]
  },
  {
   "cell_type": "code",
   "execution_count": 120,
   "id": "21009139-3efd-413a-b13f-a4aba0392f3c",
   "metadata": {
    "tags": []
   },
   "outputs": [
    {
     "data": {
      "text/plain": [
       "[Seq('AGCCTAATAACTGGGAGATCAAGCTTAGTCGAGAGACACGCTTTAGAACAGGCT...TGC'),\n",
       " Seq('AATGTAGCTACCCCAGTCCTAAGGCTAGTCGGAGATCACCTGGCCCTTTATCGA...AGC'),\n",
       " Seq('GTACATGATCCCCGATGCAGTATCGGAGGGGGCCCACGTTATTCGAGACGTGTG...ACC'),\n",
       " Seq('GCTTATGTTACTACGTCTACCCCCTCCTGCGTAAACGTGAAAGCGGACCCAAAT...TGT'),\n",
       " Seq('TGGTTTTGTCTAACGTTCCATGGCGTCAAGCTTGCTCACAGCAGCGCCACGTTT...GAA'),\n",
       " Seq('CATAGAATAGCGTGCGTGAAACTCGATGAGGATTATGCAGCACTCACCTCACGT...GGC'),\n",
       " Seq('TGCCTATCCTGATAGGTATCCGACCATTGGCTGGGGCCGAAAAAGTCCTACGGG...TCG'),\n",
       " Seq('CCTCAAGTTGAGAACCGGTCCGCAGGACCGGAGCAATTGTTCAGTTCGATCATA...CAC'),\n",
       " Seq('TCGGCCGGCTCAGGGTAGCCTGTCCGGTTCAGCCCCCCAAATCATGCACACAAC...CCC'),\n",
       " Seq('TAGTAGTCGGAACACAGACTACAATTATCCGAAAGTCGTTATTTAGGGCAGTCT...GAT'),\n",
       " Seq('ACGCCAGAGGAAACGGCATATGACTAAAAATGCGCCAAAGAAGGTGTGCGCCAC...ACC'),\n",
       " Seq('TTAGTGGGCATTCTAATTTACGAGACATCGCCAGTCACCTAGGCGTGTTCGGCG...TTG'),\n",
       " Seq('AAGCCATTCATGTCGCGTGAATTGGCGGGCGTGGATATATCTGTTGAATGATTT...TCA'),\n",
       " Seq('AACGGCAAGAGTACGCGATGGTCGAGTTGGGACGACCCCTTCAATCCCATCTCC...TAC'),\n",
       " Seq('GTTCAGGCTCTATAGGAACAACTATCGATAGAACGGTCAAGAATTATGCGTGTG...TTA'),\n",
       " Seq('GAAGTAAAACCTCGGGGTGGTTCTATTCTCTTCAATATGGCCTTGGCCCTCCCG...CCA'),\n",
       " Seq('CGGAGCAAGACATCTCAATGATCGGAAGGATAATCGATGAAGTTATCGTGACTC...GAA'),\n",
       " Seq('AGACTTTTGATGCCGAGTTGAATTCCCACCGTCATCCCCACATCATCATCACAC...GAG'),\n",
       " Seq('GGCATCCAGATCGTTCTATCGTAGATCGAAGCGTGGTGACAGTCGTTATGACCC...AGT'),\n",
       " Seq('GTCTGGCAATGGTTCATCGGTACCGAACCAAATAGCAGTGGGTAAAGCGAGACA...CTA'),\n",
       " Seq('TCTTGTGATATTCGTTTGGAATCTCACTCCCGACAAATCGGCGCCACACACATA...CTC'),\n",
       " Seq('CGCACGCGGACCAGAGCTCAGGTCTAGGCTGATTAGTCCCCAATATTACGCCTG...ACC'),\n",
       " Seq('TCTAGGCGTAGTTCAGTGTTCCGGAATCCATCTTACCTTATACTGATTAAGCAC...CGC'),\n",
       " Seq('CTAAAATGGCTACGTCCAGCGAGCGCAGGATAGACGTCAGAAAGGGTGCCGTTT...TAT'),\n",
       " Seq('TTTTACCAAGACTGACTGCAACTGACTTGAACTTAGTTAAGAAGGCCACGTGCC...GAC'),\n",
       " Seq('CGCGGATCAGGCATCTTCCACATGGTGATTGTTGCATCAACCCGCTCGCGTGGG...ACG'),\n",
       " Seq('TCAGGGACTTATAAATGAGATGACTGGTATTAGGGACCCAAGGCATGTGCTTTA...TAG'),\n",
       " Seq('GGATAACGGGGGCGTCCAGCGATCAAGCGCTCACGTGCAGCACCCAAATGCGTA...AAG'),\n",
       " Seq('CCCCAACTCGTTTACGTTCTAATGAGTACAGCCACGTAACAGAAGATCCAGAAA...TTC'),\n",
       " Seq('ATCTCCCGTTAGAACAACTTACCGCAACGTGAAGTGAACATCAGTCGGTTCAAT...AAA'),\n",
       " Seq('AGCCACGTCCACTGCTTAAGCGTGGACGGTGGTTACCAGTCTGGCATTTGTTGG...CGG'),\n",
       " Seq('TTGTCCCTTGACGTCAAATCTCGTAGCCTGTATTACCCCGAACTCCGATTGGGG...TGT'),\n",
       " Seq('GCAGGGGTGCGGATTGATTGGCGTGTATGATAGGGCCACCCGGTAATCGTACAA...CCG'),\n",
       " Seq('GCTAGAATGCCGCGCCTGATCCCGTGCGAAACGAGTTACGTTAACCCGGAAAGT...GGA'),\n",
       " Seq('GAAGGACTGTGAATTGATCGATGTGACACCGCCCGCACACCTGTAAGGGCGACC...GAC'),\n",
       " Seq('TGGAGCATGGTGATTTAAAAGCTCCCACCCATTTTCCCGTAATTACCGGCGTCT...TAT'),\n",
       " Seq('CAGAAATTAACCGACTTAATTGATCGTCTTCGGGCTAGGAAGTAAACTCATTAC...GTC'),\n",
       " Seq('TTGACCTTGCTCTGCGGTATCCACTTGACATTGGCACTGCCTCTTTAAAAGGTC...GGC'),\n",
       " Seq('TTTGCGAGGCCGTTTAAATTGTTACGTCTGACCTTTTTGACTTTTAGATTTTAT...CCC'),\n",
       " Seq('TTCCTAAGGGCCAGATCGGTAGTTCTGTACCAATTATCGAAACGAGAGCATAGC...CTC'),\n",
       " Seq('TTTAAGGCCCCATCATACCAACCGAAGTACAGGGAGGGGATTCAGACTTGTCCC...AAT'),\n",
       " Seq('TCGAATAAGCCGAACGTCGGACCATCCTGTTTCGGCCACTTCAATCTTGGGCTG...GTA'),\n",
       " Seq('TTAGAATCCACCATGAGACAATACTCAGACACCAATTAGGTCTAGTTCAATAAG...CGT'),\n",
       " Seq('GCCAAAGCCACTTAAACTTGACCTTAACAAACAACCTTGGCCCTCGTACTACAT...TGT'),\n",
       " Seq('ATAACCATGGCCAGGGTGACTGGATCCTATTGCTGCGGGTGCTTAGCCTCGGTT...ACT'),\n",
       " Seq('CGGCAGGCCTTCGTAGCAAAGTTAAGTGTTCCTTACACCTAAGAAATAGCACCT...TTA'),\n",
       " Seq('CATTAGACCTCAGCAATCGGGGTTCTCATGGAGGTGTAGATCAAGTTTACGGGC...GGA'),\n",
       " Seq('GGTTTTTCTACCGTACTTGCGTGATGGTATAAGTTATATTGGTCCCGGCCCCCA...AAT'),\n",
       " Seq('ATATGCACTTTGTGTATGTCCCTTCACAGATTGACTGACCTTACAGCCGTGGGA...GCC'),\n",
       " Seq('GTGAACGCGGGTAGGAATGGCGACCTACCTCTCCCTTCTGCCAACGTAGCGAGG...TAC')]"
      ]
     },
     "execution_count": 120,
     "metadata": {},
     "output_type": "execute_result"
    }
   ],
   "source": [
    "reads"
   ]
  },
  {
   "cell_type": "code",
   "execution_count": null,
   "id": "e88a7642-22ee-4f4b-8d2c-1752518db49d",
   "metadata": {},
   "outputs": [],
   "source": []
  }
 ],
 "metadata": {
  "kernelspec": {
   "display_name": "Python 3 (ipykernel)",
   "language": "python",
   "name": "python3"
  },
  "language_info": {
   "codemirror_mode": {
    "name": "ipython",
    "version": 3
   },
   "file_extension": ".py",
   "mimetype": "text/x-python",
   "name": "python",
   "nbconvert_exporter": "python",
   "pygments_lexer": "ipython3",
   "version": "3.11.7"
  }
 },
 "nbformat": 4,
 "nbformat_minor": 5
}
