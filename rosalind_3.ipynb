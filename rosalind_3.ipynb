{
 "cells": [
  {
   "cell_type": "code",
   "execution_count": 1,
   "id": "d970da39-cf3e-4072-bcee-9fc6b1f856ae",
   "metadata": {
    "tags": []
   },
   "outputs": [],
   "source": [
    "from Bio import SeqIO\n",
    "from urllib.request import urlopen        \n",
    "import numpy as np\n",
    "from math import comb\n",
    "import re"
   ]
  },
  {
   "cell_type": "markdown",
   "id": "23287ebd-1593-4ea6-8e33-a3c506b77e38",
   "metadata": {},
   "source": [
    "## Independent Alleles"
   ]
  },
  {
   "cell_type": "markdown",
   "id": "edab3ce6-14d2-4088-bc7b-d10b41bfb776",
   "metadata": {},
   "source": [
    "- Binomial\n",
    "- nCk((p)**k))(1-p)**(n-k)"
   ]
  },
  {
   "cell_type": "code",
   "execution_count": 8,
   "id": "d18e3462-85de-4d91-b757-43e1d9894091",
   "metadata": {
    "tags": []
   },
   "outputs": [],
   "source": [
    "k = 2\n",
    "N = 1\n",
    "P = 2**k\n",
    "prob = 0\n",
    "\n",
    "for i in range(N,P+1):\n",
    "    prob += comb(P,i)*((0.25)**i)*((0.75)**(P-i))\n"
   ]
  },
  {
   "cell_type": "code",
   "execution_count": 9,
   "id": "8a6c3fda-f116-4fbd-96ae-62186a2fb5c5",
   "metadata": {
    "tags": []
   },
   "outputs": [
    {
     "data": {
      "text/plain": [
       "0.68359375"
      ]
     },
     "execution_count": 9,
     "metadata": {},
     "output_type": "execute_result"
    }
   ],
   "source": [
    "prob"
   ]
  },
  {
   "cell_type": "markdown",
   "id": "9a6bcf66-61e9-49aa-9456-a785630b0ea9",
   "metadata": {},
   "source": [
    "### apply to data"
   ]
  },
  {
   "cell_type": "code",
   "execution_count": 11,
   "id": "e515ae2e-45e6-492e-a479-8829130e9b6d",
   "metadata": {
    "tags": []
   },
   "outputs": [],
   "source": [
    "k = 7\n",
    "N = 31\n",
    "P = 2**k\n",
    "prob = 0\n",
    "\n",
    "for i in range(N,P+1):\n",
    "    prob += comb(P,i)*((0.25)**i)*((0.75)**(P-i))\n"
   ]
  },
  {
   "cell_type": "code",
   "execution_count": 12,
   "id": "fa19f69f-738f-42b8-8286-9755acbb0fbd",
   "metadata": {
    "tags": []
   },
   "outputs": [
    {
     "data": {
      "text/plain": [
       "0.6142569731400072"
      ]
     },
     "execution_count": 12,
     "metadata": {},
     "output_type": "execute_result"
    }
   ],
   "source": [
    "prob"
   ]
  },
  {
   "cell_type": "markdown",
   "id": "35dc0395-730b-43d1-8383-b85ba559beb0",
   "metadata": {},
   "source": [
    "## find protein motif"
   ]
  },
  {
   "cell_type": "code",
   "execution_count": 2,
   "id": "8ad68b81-ca5a-410f-9597-5571fedefe9c",
   "metadata": {
    "tags": []
   },
   "outputs": [],
   "source": [
    "## data prep\n",
    "with open('./data/test/rosalind_poteinmotif.txt','r') as f:\n",
    "    data = []\n",
    "    for i in f:\n",
    "        data.append(i.rstrip())"
   ]
  },
  {
   "cell_type": "code",
   "execution_count": 3,
   "id": "1ac31a53-fb34-43ac-ba01-5f1379d2bdb4",
   "metadata": {
    "tags": []
   },
   "outputs": [
    {
     "data": {
      "text/plain": [
       "['A2Z669', 'B5ZC00', 'P07204_TRBM_HUMAN', 'P20840_SAG1_YEAST']"
      ]
     },
     "execution_count": 3,
     "metadata": {},
     "output_type": "execute_result"
    }
   ],
   "source": [
    "data"
   ]
  },
  {
   "cell_type": "code",
   "execution_count": 4,
   "id": "41958843-df70-4948-bf67-99f8e0c209e9",
   "metadata": {
    "tags": []
   },
   "outputs": [],
   "source": [
    "### prep from url\n",
    "for id in data:\n",
    "    id = id.split('_')[0]\n",
    "    url = f\"http://www.uniprot.org/uniprot/{id}.fasta\"\n",
    "    fasta = urlopen(url)\n",
    "    fasta = fasta.read().decode('utf-8', 'ignore')\n",
    "    with open('seq_file.fasta','a') as file:\n",
    "        file.write(fasta)\n",
    "sequence = SeqIO.parse('seq_file.fasta','fasta')\n",
    "seq_dict = {}\n",
    "for sequ in sequence:\n",
    "    seq_dict[sequ.id] = sequ.seq"
   ]
  },
  {
   "cell_type": "code",
   "execution_count": 5,
   "id": "9e9cdb50-7279-41f7-ae43-2861bb3dc8a7",
   "metadata": {
    "tags": []
   },
   "outputs": [],
   "source": [
    "motifs = re.compile(r'(?=(N[^P][ST][^P]))')     "
   ]
  },
  {
   "cell_type": "code",
   "execution_count": 6,
   "id": "bd6234dd-4cfc-4164-a96a-33f03fb0aa5b",
   "metadata": {
    "tags": []
   },
   "outputs": [
    {
     "name": "stdout",
     "output_type": "stream",
     "text": [
      "sp|A2Z669|CSPLT_ORYSI MRASRPVVHPVEAPPPAALAVAAAAVAVEAGVGAGGGAAAHGGENAQPRGVRMKDPPGAPGTPGGLGLRLVQAFFAAAALAVMASTDDFPSVSAFCYLVAAAILQCLWSLSLAVVDIYALLVKRSLRNPQAVCIFTIGDGITGTLTLGAACASAGITVLIGNDLNICANNHCASFETATAMAFISWFALAPSCVLNFWSMASR\n",
      "sp|B5ZC00|SYG_UREU1 MKNKFKTQEELVNHLKTVGFVFANSEIYNGLANAWDYGPLGVLLKNNLKNLWWKEFVTKQKDVVGLDSAIILNPLVWKASGHLDNFSDPLIDCKNCKARYRADKLIESFDENIHIAENSSNEEFAKVLNDYEISCPTCKQFNWTEIRHFNLMFKTYQGVIEDAKNVVYLRPETAQGIFVNFKNVQRSMRLHLPFGIAQIGKSFRNEITPGNFIFRTREFEQMEIEFFLKEESAYDIFDKYLNQIENWLVSACGLSLNNLRKHEHPKEELSHYSKKTIDFEYNFLHGFSELYGIAYRTNYDLSVHMNLSKKDLTYFDEQTKEKYVPHVIEPSVGVERLLYAILTEATFIEKLENDDERILMDLKYDLAPYKIAVMPLVNKLKDKAEEIYGKILDLNISATFDNSGSIGKRYRRQDAIGTIYCLTIDFDSLDDQQDPSFTIRERNSMAQKRIKLSELPLYLNQKAHEDFQRQCQK\n",
      "sp|P07204|TRBM_HUMAN MLGVLVLGALALAGLGFPAPAEPQPGGSQCVEHDCFALYPGPATFLNASQICDGLRGHLMTVRSSVAADVISLLLNGDGGVGRRRLWIGLQLPPGCGDPKRLGPLRGFQWVTGDNNTSYSRWARLDLNGAPLCGPLCVAVSAAEATVPSEPIWEEQQCEVKADGFLCEFHFPATCRPLAVEPGAAAAAVSITYGTPFAARGADFQALPVGSSAAVAPLGLQLMCTAPPGAVQGHWAREAPGAWDCSVENGGCEHACNAIPGAPRCQCPAGAALQADGRSCTASATQSCNDLCEHFCVPNPDQPGSYSCMCETGYRLAADQHRCEDVDDCILEPSPCPQRCVNTQGGFECHCYPNYDLVDGECVEPVDPCFRANCEYQCQPLNQTSYLCVCAEGFAPIPHEPHRCQMFCNQTACPADCDPNTQASCECPEGYILDDGFICTDIDECENGGFCSGVCHNLPGTFECICGPDSALARHIGTDCDSGKVDGGDSGSGEPPPSPTPGSTLTPPAVGLVHSGLLIGISIASLCLVVALLALLCHLRKKQGAARAKMEYKCAAPSKEVVLQHVRTERTPQRL\n",
      "sp|P20840|SAG1_YEAST MFTFLKIILWLFSLALASAININDITFSNLEITPLTANKQPDQGWTATFDFSIADASSIREGDEFTLSMPHVYRIKLLNSSQTATISLADGTEAFKCYVSQQAAYLYENTTFTCTAQNDLSSYNTIDGSITFSLNFSDGGSSYEYELENAKFFKSGPMLVKLGNQMSDVVNFDPAAFTENVFHSGRSTGYGSFESYHLGMYCPNGYFLGGTEKIDYDSSNNNVDLDCSSVQVYSSNDFNDWWFPQSYNDTNADVTCFGSNLWITLDEKLYDGEMLWVNALQSLPANVNTIDHALEFQYTCLDTIANTTYATQFSTTREFIVYQGRNLGTASAKSSFISTTTTDLTSINTSAYSTGSISTVETGNRTTSEVISHVVTTSTKLSPTATTSLTIAQTSIYSTDSNITVGTDIHTTSEVISDVETISRETASTVVAAPTSTTGWTGAMNTYISQFTSSSFATINSTPIISSSAVFETSDASIVNVHTENITNTAAVPSEEPTFVNATRNSLNSFCSSKQPSSPSSYTSSPLVSSLSVSKTLLSTSFTPSVPTSNTYIKTKNTGYFEHTALTTSSVGLNSFSETAVSSQGTKIDTFLVSSLIAYPSSASGSQLSGIQQNFTSTSLMISTYEGKASIFFSAELGSIIFLLLSYLLF\n"
     ]
    }
   ],
   "source": [
    "counts = {}\n",
    "for id,sequ in seq_dict.items():\n",
    "    print(id,sequ)\n",
    "    pos = []\n",
    "    for i in re.finditer(motifs,str(sequ)):\n",
    "        pos.append(i.start()+1)\n",
    "    counts[id] = pos"
   ]
  },
  {
   "cell_type": "code",
   "execution_count": 7,
   "id": "899b5043-36f8-459c-a4da-b66140ab97cd",
   "metadata": {
    "tags": []
   },
   "outputs": [
    {
     "name": "stdout",
     "output_type": "stream",
     "text": [
      "B5ZC00\n",
      "85 118 142 306 395\n",
      "P07204_TRBM_HUMAN\n",
      "47 115 116 382 409\n",
      "P20840_SAG1_YEAST\n",
      "79 109 135 248 306 348 364 402 485 501 614\n"
     ]
    }
   ],
   "source": [
    "    \n",
    "for name,num in zip(data,counts.values()):\n",
    "    if len(num)>0:\n",
    "        print(name)\n",
    "        print(' '.join([str(x) for x in list(num)]))"
   ]
  },
  {
   "cell_type": "markdown",
   "id": "87579fae-702e-4529-b12f-54b6db5f089c",
   "metadata": {},
   "source": [
    "### Apply to data1"
   ]
  },
  {
   "cell_type": "code",
   "execution_count": 37,
   "id": "0b28d0ae-fc57-47e8-8024-96261ece6405",
   "metadata": {
    "tags": []
   },
   "outputs": [
    {
     "name": "stdout",
     "output_type": "stream",
     "text": [
      "P81447_MPP3_CAPHI\n",
      "107\n",
      "Q3T0C9\n",
      "96\n",
      "P02725_GLP_PIG\n",
      "15 38\n",
      "B8CH81\n",
      "16 19 39\n",
      "O08537_ESR2_MOUSE\n",
      "319 490\n",
      "Q5WFN0\n",
      "17 55 407\n",
      "P01045_KNH2_BOVIN\n",
      "277 415\n",
      "P14210_HGF_HUMAN\n",
      "47 87 168 169 197 204 280\n",
      "P01047_KNL2_BOVIN\n",
      "294 402 566 653\n"
     ]
    }
   ],
   "source": [
    "## data prep\n",
    "with open('./data/rosalind_mprt.txt','r') as f:\n",
    "    data = []\n",
    "    for i in f:\n",
    "        data.append(i.rstrip())\n",
    "        \n",
    "### prep from url\n",
    "for id in data:\n",
    "    id = id.split('_')[0]\n",
    "    url = f\"http://www.uniprot.org/uniprot/{id}.fasta\"\n",
    "    fasta = urlopen(url)\n",
    "    fasta = fasta.read().decode('utf-8', 'ignore')\n",
    "    with open('seq_file_test.fasta','a') as file:\n",
    "        file.write(fasta)\n",
    "## prep       \n",
    "sequence = SeqIO.parse('seq_file_test.fasta','fasta')\n",
    "seq_dict = {}\n",
    "for sequ in sequence:\n",
    "    seq_dict[sequ.id] = sequ.seq\n",
    "## motif\n",
    "motifs = re.compile(r'(?=(N[^P][ST][^P]))')   \n",
    "\n",
    "## motif count\n",
    "counts = {}\n",
    "for id,sequ in seq_dict.items():\n",
    "    pos = []\n",
    "    for i in re.finditer(motifs,str(sequ)):\n",
    "        pos.append(i.start()+1)\n",
    "    counts[id] = pos\n",
    "    \n",
    "for name,num in zip(data,counts.values()):\n",
    "    if len(num)>0:\n",
    "        print(name)\n",
    "        print(' '.join([str(x) for x in list(num)]))"
   ]
  },
  {
   "cell_type": "code",
   "execution_count": 39,
   "id": "cf3ab086-37b6-442e-b662-49c139b50cf5",
   "metadata": {
    "tags": []
   },
   "outputs": [
    {
     "name": "stdout",
     "output_type": "stream",
     "text": [
      "Q3T0C9\n",
      "277 415\n",
      "P02725_GLP_PIG\n",
      "47 87 168 169 197 204 280\n",
      "B8CH81\n",
      "96\n",
      "P11831_SRF_HUMAN\n",
      "15 38\n",
      "O08537_ESR2_MOUSE\n",
      "16 19 39\n",
      "Q83I57\n",
      "319 490\n",
      "P02748_CO9_HUMAN\n",
      "17 55 407\n",
      "P14210_HGF_HUMAN\n",
      "294 402 566 653\n",
      "P01047_KNL2_BOVIN\n",
      "107\n"
     ]
    }
   ],
   "source": [
    "## data prep\n",
    "with open('./data/rosalind_mprt.txt','r') as f:\n",
    "    data = []\n",
    "    for i in f:\n",
    "        data.append(i.rstrip())\n",
    "        \n",
    "### prep from url\n",
    "for id in data:\n",
    "    id = id.split('_')[0]\n",
    "    url = f\"http://www.uniprot.org/uniprot/{id}.fasta\"\n",
    "    fasta = urlopen(url)\n",
    "    fasta = fasta.read().decode('utf-8', 'ignore')\n",
    "    with open('seq_file_test.fasta','a') as file:\n",
    "        file.write(fasta)\n",
    "## prep       \n",
    "sequence = SeqIO.parse('seq_file_test.fasta','fasta')\n",
    "seq_dict = {}\n",
    "for sequ in sequence:\n",
    "    seq_dict[sequ.id] = sequ.seq\n",
    "## motif\n",
    "motifs = re.compile(r'(?=(N[^P][ST][^P]))')   \n",
    "\n",
    "## motif count\n",
    "counts = 0\n",
    "\n",
    "for sequ in seq_dict.values():\n",
    "    positions=[]\n",
    "    for i in re.finditer(motifs,str(sequ)):\n",
    "        positions.append(i.start()+1)\n",
    "    if len(positions)>0:\n",
    "        print(data[counts])\n",
    "        print(' '.join(map(str,positions)))\n",
    "    counts +=1"
   ]
  },
  {
   "cell_type": "markdown",
   "id": "5b984770-e050-4817-964f-a3e6585c6c55",
   "metadata": {},
   "source": [
    "## Inferring mRNA from protein"
   ]
  },
  {
   "cell_type": "code",
   "execution_count": 40,
   "id": "732cb389-d7c1-41b5-a6f9-960cde449fb2",
   "metadata": {
    "tags": []
   },
   "outputs": [],
   "source": [
    "codon_dict ={\n",
    "    'UUU': 'F', 'CUU': 'L', 'AUU': 'I', 'GUU': 'V',\n",
    "    'UUC': 'F', 'CUC': 'L', 'AUC': 'I', 'GUC': 'V',\n",
    "    'UUA': 'L', 'CUA': 'L', 'AUA': 'I', 'GUA': 'V',\n",
    "    'UUG': 'L', 'CUG': 'L', 'AUG': 'M', 'GUG': 'V',\n",
    "    'UCU': 'S', 'CCU': 'P', 'ACU': 'T', 'GCU': 'A',\n",
    "    'UCC': 'S', 'CCC': 'P', 'ACC': 'T', 'GCC': 'A',\n",
    "    'UCA': 'S', 'CCA': 'P', 'ACA': 'T', 'GCA': 'A',\n",
    "    'UCG': 'S', 'CCG': 'P', 'ACG': 'T', 'GCG': 'A',\n",
    "    'UAU': 'Y', 'CAU': 'H', 'AAU': 'N', 'GAU': 'D',\n",
    "    'UAC': 'Y', 'CAC': 'H', 'AAC': 'N', 'GAC': 'D',\n",
    "    'UAA': 'Stop', 'CAA': 'Q', 'AAA': 'K', 'GAA': 'E',\n",
    "    'UAG': 'Stop', 'CAG': 'Q', 'AAG': 'K', 'GAG': 'E',\n",
    "    'UGU': 'C', 'CGU': 'R', 'AGU': 'S', 'GGU': 'G',\n",
    "    'UGC': 'C', 'CGC': 'R', 'AGC': 'S', 'GGC': 'G',\n",
    "    'UGA': 'Stop', 'CGA': 'R', 'AGA': 'R', 'GGA': 'G',\n",
    "    'UGG': 'W', 'CGG': 'R', 'AGG': 'R', 'GGG': 'G'\n",
    "}\n"
   ]
  },
  {
   "cell_type": "code",
   "execution_count": 55,
   "id": "6906230c-1cad-4b1a-95bd-557ca2332925",
   "metadata": {
    "tags": []
   },
   "outputs": [],
   "source": [
    "from collections import Counter\n",
    "codon_counts = Counter(list(codon_dict.values()))"
   ]
  },
  {
   "cell_type": "code",
   "execution_count": 79,
   "id": "17243ac7-30b5-497f-a6a4-90707f2bb1f7",
   "metadata": {
    "tags": []
   },
   "outputs": [],
   "source": [
    "data = 'MA'\n",
    "base_counts = codon_counts['Stop']\n",
    "for alpha in data:\n",
    "    base_counts *= codon_counts[alpha]"
   ]
  },
  {
   "cell_type": "code",
   "execution_count": 80,
   "id": "db233eab-de77-4b46-aac3-1d825b473738",
   "metadata": {
    "tags": []
   },
   "outputs": [
    {
     "data": {
      "text/plain": [
       "12"
      ]
     },
     "execution_count": 80,
     "metadata": {},
     "output_type": "execute_result"
    }
   ],
   "source": [
    "base_counts"
   ]
  },
  {
   "cell_type": "markdown",
   "id": "3167e35e-53c5-4172-ab72-eedf1824f084",
   "metadata": {
    "tags": []
   },
   "source": [
    "### apply to data"
   ]
  },
  {
   "cell_type": "code",
   "execution_count": 85,
   "id": "a915668b-a843-4971-ab33-3365844beaf8",
   "metadata": {
    "tags": []
   },
   "outputs": [],
   "source": [
    "with open('./data/rosalind_mrna.txt','r') as f:\n",
    "    sequence = f.read().rstrip()\n",
    "data = sequence\n",
    "base_counts = codon_counts['Stop']\n",
    "for alpha in data:\n",
    "    base_counts *= codon_counts[alpha]"
   ]
  },
  {
   "cell_type": "code",
   "execution_count": 86,
   "id": "6348ebea-ba6f-4edd-ab01-fa432b113945",
   "metadata": {
    "tags": []
   },
   "outputs": [
    {
     "data": {
      "text/plain": [
       "204286584483135559312497130600848672913803713099545725216110624599060034040358254650453657308148017941032667342845061800170001624824021376771373990969014155558748975432639938938762523920144613829347349212255955384118844155448242495072781924775899940413219593951077715716247695892721559934444901836217683109708475876617512738641603354445892652031042474922124895775558678071397965907793032650184979174437809636476749284904653874847023104"
      ]
     },
     "execution_count": 86,
     "metadata": {},
     "output_type": "execute_result"
    }
   ],
   "source": [
    "base_counts"
   ]
  },
  {
   "cell_type": "code",
   "execution_count": 87,
   "id": "b47a336a-de42-4fc1-a49b-cc507e053cd3",
   "metadata": {
    "tags": []
   },
   "outputs": [
    {
     "data": {
      "text/plain": [
       "23104"
      ]
     },
     "execution_count": 87,
     "metadata": {},
     "output_type": "execute_result"
    }
   ],
   "source": [
    "base_counts%1000000"
   ]
  },
  {
   "cell_type": "markdown",
   "id": "be91ec7a-4117-4449-8bdf-635b04bf914e",
   "metadata": {},
   "source": [
    "### ORF"
   ]
  },
  {
   "cell_type": "code",
   "execution_count": null,
   "id": "9ae5bef4-72c3-476c-93f0-930405274012",
   "metadata": {},
   "outputs": [],
   "source": []
  },
  {
   "cell_type": "code",
   "execution_count": 234,
   "id": "07268e90-aac3-4f7e-9156-9017ec025ced",
   "metadata": {
    "tags": []
   },
   "outputs": [],
   "source": [
    "sequcence = SeqIO.parse('./data/test/rosalind_ORF.txt','fasta')"
   ]
  },
  {
   "cell_type": "code",
   "execution_count": 231,
   "id": "ec4bb7a1-5507-45a7-b36d-0ea2cdc5ab5a",
   "metadata": {
    "tags": []
   },
   "outputs": [],
   "source": [
    "ids =[]\n",
    "seqs =[]\n",
    "for rec in sequcence:\n",
    "    ids.append(rec.id)\n",
    "    seqs.append(rec.seq)"
   ]
  },
  {
   "cell_type": "code",
   "execution_count": 232,
   "id": "1633161e-7034-4371-ba05-e52ffe789885",
   "metadata": {
    "tags": []
   },
   "outputs": [
    {
     "name": "stdout",
     "output_type": "stream",
     "text": [
      "['Rosalind_99'] [Seq('AGCCATGTAGCTAACTCAGGTTACATGGGGATGACCCCGCGACTTGGATTAGAG...CAG')]\n"
     ]
    }
   ],
   "source": [
    "print(ids,seqs)"
   ]
  },
  {
   "cell_type": "markdown",
   "id": "2d05ac69-7398-4339-9604-4cc700587cf0",
   "metadata": {
    "jp-MarkdownHeadingCollapsed": true,
    "tags": []
   },
   "source": [
    "### Plan1"
   ]
  },
  {
   "cell_type": "code",
   "execution_count": 227,
   "id": "9488be19-bc46-478b-b4bc-35a5bca464d4",
   "metadata": {
    "tags": []
   },
   "outputs": [
    {
     "name": "stdout",
     "output_type": "stream",
     "text": [
      "MLLGSFRLIPKETLIQVAGSSPCNLS\n",
      "M\n",
      "MGMTPRLGLESLLE\n",
      "MTPRLGLESLLE\n"
     ]
    }
   ],
   "source": [
    "proteins={}\n",
    "for id, dna in zip(ids,seqs):\n",
    "    # 逆鎖\n",
    "    rna = dna.reverse_complement_rna() # 逆鎖rnaに変換\n",
    "    for i in range(0,len(rna)):\n",
    "        codon = rna[i:i+3]\n",
    "        ## Startコドンの検索\n",
    "        if codon == 'AUG':\n",
    "            protein = []\n",
    "            for j in range(i,len(rna)-i,3):\n",
    "                ##Startコドンから翻訳を開始する\n",
    "                codon2 = rna[j:j+3]\n",
    "                if codon_dict[codon2] != 'Stop':\n",
    "                    ## 翻訳したProteinを保存\n",
    "                    protein.append(codon_dict[codon2])\n",
    "                ##Stopコドンが見つかったら終了\n",
    "                else:\n",
    "                    break\n",
    "            if len(protein) >0:\n",
    "                print(''.join(protein))\n",
    "        else:\n",
    "            continue\n",
    "    # 順鎖\n",
    "    dna_2 = dna.replace('T','U') #順鎖のrnaに変換\n",
    "    for i in range(0,len(dna_2)):\n",
    "        codon = dna_2[i:i+3]\n",
    "        ## Startコドンの検索\n",
    "        if codon == 'AUG':\n",
    "            protein = []\n",
    "            for j in range(i,len(dna_2)-i,3):\n",
    "                ##Startコドンから翻訳を開始する\n",
    "                codon2 = dna_2[j:j+3]\n",
    "                if codon_dict[codon2] != 'Stop':\n",
    "                    ## 翻訳したProteinを保存\n",
    "                    protein.append(codon_dict[codon2])\n",
    "                ##Stopコドンが見つかったら終了\n",
    "                else:\n",
    "                    break\n",
    "            if len(protein)>0:\n",
    "                print(''.join(protein))\n",
    "        else:\n",
    "            continue"
   ]
  },
  {
   "cell_type": "markdown",
   "id": "b29df83f-d2d2-4974-838b-4142c51f5dc2",
   "metadata": {},
   "source": [
    "### Plan2"
   ]
  },
  {
   "cell_type": "code",
   "execution_count": 235,
   "id": "3dc28a40-d108-47b9-945a-647014733d1b",
   "metadata": {
    "tags": []
   },
   "outputs": [
    {
     "name": "stdout",
     "output_type": "stream",
     "text": [
      "M\n",
      "MGMTPRLGLESLLE\n",
      "MTPRLGLESLLE\n",
      "MLLGSFRLIPKETLIQVAGSSPCNLS\n"
     ]
    }
   ],
   "source": [
    "import re                                                 \n",
    "from Bio import SeqIO                                     \n",
    "from Bio.Seq import Seq                                                        \n",
    "\n",
    "record = next(sequcence)        \n",
    "pattern = re.compile(r'(?=(ATG(?:...)*?)(?=TAG|TGA|TAA))')\n",
    "frw_seq = record.seq                                      \n",
    "rev_seq = frw_seq.reverse_complement()                    \n",
    "sequences = []                                            \n",
    "\n",
    "for m in re.findall(pattern, str(frw_seq)):               \n",
    "    dna_seq = Seq(m)                         \n",
    "    prot_seq = dna_seq.translate()                        \n",
    "    if prot_seq not in sequences:                         \n",
    "        sequences.append(prot_seq)                        \n",
    "for n in re.findall(pattern, str(rev_seq)):               \n",
    "    rev_dna_seq = Seq(n)                     \n",
    "    rev_prot_seq = rev_dna_seq.translate()                \n",
    "    if rev_prot_seq not in sequences:                     \n",
    "        sequences.append(rev_prot_seq)                    \n",
    "\n",
    "for i, s in enumerate(sequences):                         \n",
    "    print(s)    "
   ]
  },
  {
   "cell_type": "markdown",
   "id": "5f6f6d79-fcab-4b3f-a5b9-883b09f847a4",
   "metadata": {},
   "source": [
    "### apply to data"
   ]
  },
  {
   "cell_type": "code",
   "execution_count": 243,
   "id": "90f8c6b0-788d-4dad-9299-88336af246c5",
   "metadata": {
    "tags": []
   },
   "outputs": [
    {
     "name": "stdout",
     "output_type": "stream",
     "text": [
      "['Rosalind_5217'] [Seq('TGGTTAGAACCCGCTGCTGCTCTCGGAATGATCCTTTGCGACGCCCCTGAGAAG...TCT')]\n"
     ]
    }
   ],
   "source": [
    "sequcence = SeqIO.parse('./data/rosalind_orf.txt','fasta')\n",
    "ids =[]\n",
    "seqs =[]\n",
    "for rec in sequcence:\n",
    "    ids.append(rec.id)\n",
    "    seqs.append(rec.seq)\n",
    "print(ids,seqs) "
   ]
  },
  {
   "cell_type": "markdown",
   "id": "25b9ad4c-c9fb-4333-b38b-46ca192991db",
   "metadata": {
    "jp-MarkdownHeadingCollapsed": true,
    "tags": []
   },
   "source": [
    "### Plan1"
   ]
  },
  {
   "cell_type": "code",
   "execution_count": 240,
   "id": "7eb9ec64-26b5-4483-bc21-578d0c6378cf",
   "metadata": {
    "tags": []
   },
   "outputs": [
    {
     "name": "stdout",
     "output_type": "stream",
     "text": [
      "MCAPPHISRAPPRGGAL\n",
      "MWGVFFLCARVL\n",
      "M\n",
      "MCAQRENISL\n",
      "MCVYMWGV\n",
      "MWGV\n",
      "MCAPRALFSLFSLSLCVWGVLCALSQNI\n",
      "MCVYTLCVSLFSPRVL\n",
      "MCVYTRVCVCVWGALFSPLWGDTL\n",
      "MCVFSLL\n",
      "MWGARARERDISRGDTPRAPLSLSQRENTHTPL\n",
      "MWGDTPPRDM\n",
      "M\n",
      "MCV\n",
      "MCAQRDILCAQNTPHMWGARDTRGGARDTHISHM\n",
      "MWGARDTRGGARDTHISHM\n",
      "M\n",
      "MCVYTLCVFFSLFSQNISPRDI\n",
      "MWGAPQSVSRGGDMCVYTRVCVCVWGALFSPLWGDTL\n",
      "MCVYTRVCVCVWGALFSPLWGDTL\n"
     ]
    }
   ],
   "source": [
    "for id, dna in zip(ids,seqs):\n",
    "    # DNAを相補的なrnaに変換する\n",
    "    rna = dna.reverse_complement_rna()\n",
    "    for i in range(len(rna)):\n",
    "        codon = rna[i:i+3]\n",
    "        ## Startコドンの検索\n",
    "        if codon == 'AUG':\n",
    "            protein = []\n",
    "            for j in range(i,len(rna)-i):\n",
    "                ##Startコドンから翻訳を開始する\n",
    "                codon2 = rna[j:j+3]\n",
    "                if len(codon2)==3 and codon_dict[codon2] != 'Stop':\n",
    "                    ## 翻訳したProteinを保存\n",
    "                    protein.append(codon_dict[codon2])\n",
    "                ##Stopコドンが見つかったら終了\n",
    "                else:\n",
    "                    break\n",
    "            if len(protein) >0:\n",
    "                print(''.join(protein))\n",
    "        else:\n",
    "            continue\n",
    "    # DNAから直接\n",
    "    dna_2 = dna.replace('T','U')\n",
    "    for i in range(len(dna_2)):\n",
    "        codon = dna_2[i:i+3]\n",
    "        ## Startコドンの検索\n",
    "        if codon == 'AUG':\n",
    "            protein = []\n",
    "            for j in range(i,len(dna_2)-i):\n",
    "                ##Startコドンから翻訳を開始する\n",
    "                codon2 = dna_2[j:j+3]\n",
    "                if len(codon2)==3 and codon_dict[codon2] != 'Stop':\n",
    "                    ## 翻訳したProteinを保存\n",
    "                    protein.append(codon_dict[codon2])\n",
    "                ##Stopコドンが見つかったら終了\n",
    "                else:\n",
    "                    break\n",
    "            if len(protein)>0:\n",
    "                print(''.join(protein))\n",
    "        else:\n",
    "            continue"
   ]
  },
  {
   "cell_type": "markdown",
   "id": "d07be70a-dce7-49eb-82dd-4fc8560feea5",
   "metadata": {},
   "source": [
    "### Plan2"
   ]
  },
  {
   "cell_type": "code",
   "execution_count": 244,
   "id": "106e0af8-672f-4f75-8d40-db27b7983c5c",
   "metadata": {},
   "outputs": [
    {
     "name": "stdout",
     "output_type": "stream",
     "text": [
      "MILCDAPEKLD\n",
      "MGNRSGVPVFPAAVFLPAAGVPSIRLFPGTCTLQLIWRYRRLAQTIIPRPSM\n",
      "MHFTTDLEISKTSPNHNTKALHVTGGSDCIRKCLENELLRYVS\n",
      "M\n",
      "MFRERTPSIC\n",
      "MLASAPASL\n",
      "METFLDHRFVGENGHHVVEVAL\n",
      "MLST\n",
      "MSRMTSTYPTV\n",
      "MTSTYPTV\n",
      "MRLIDCM\n",
      "MAPIPYSPQIRSMGLYCTLTMIT\n",
      "MGLYCTLTMIT\n",
      "MIT\n",
      "MLIVAAVLYEPMDS\n",
      "MDS\n",
      "MS\n",
      "MNSLTY\n",
      "MEGECLVTSPLAHIELRRR\n",
      "MSITRYRKRRPRVRTRSI\n",
      "MKTTNGIE\n",
      "MGLVPLTLTLLFR\n",
      "MRLMWKAWPQLVTEVAWLYFTSFCLTIGLLPQRGVRSPPRNGGPRRFPLETRRSAS\n",
      "MWKAWPQLVTEVAWLYFTSFCLTIGLLPQRGVRSPPRNGGPRRFPLETRRSAS\n",
      "MAAVSN\n",
      "MQSLPPVTWRALVLWFGLVFDISKSVVKCMFPEIAESTAHQQLAERLPRETQGLRCGYPSVELLRGVAKDHSESSSGF\n",
      "MFPEIAESTAHQQLAERLPRETQGLRCGYPSVELLRGVAKDHSESSSGF\n"
     ]
    }
   ],
   "source": [
    "sequcence = SeqIO.parse('./data/rosalind_orf.txt','fasta')\n",
    "record = next(sequcence)        \n",
    "pattern = re.compile(r'(?=(ATG(?:...)*?)(?=TAG|TGA|TAA))')\n",
    "frw_seq = record.seq                                      \n",
    "rev_seq = frw_seq.reverse_complement()                    \n",
    "sequences = []                                            \n",
    "\n",
    "for m in re.findall(pattern, str(frw_seq)):               \n",
    "    dna_seq = Seq(m)                         \n",
    "    prot_seq = dna_seq.translate()                        \n",
    "    if prot_seq not in sequences:                         \n",
    "        sequences.append(prot_seq)                        \n",
    "for n in re.findall(pattern, str(rev_seq)):               \n",
    "    rev_dna_seq = Seq(n)                     \n",
    "    rev_prot_seq = rev_dna_seq.translate()                \n",
    "    if rev_prot_seq not in sequences:                     \n",
    "        sequences.append(rev_prot_seq)                    \n",
    "\n",
    "for i, s in enumerate(sequences):                         \n",
    "    print(s)    "
   ]
  },
  {
   "cell_type": "code",
   "execution_count": null,
   "id": "46aaf3fc-2b34-4c5b-87c9-5aea10c21836",
   "metadata": {},
   "outputs": [],
   "source": []
  }
 ],
 "metadata": {
  "kernelspec": {
   "display_name": "Python 3 (ipykernel)",
   "language": "python",
   "name": "python3"
  },
  "language_info": {
   "codemirror_mode": {
    "name": "ipython",
    "version": 3
   },
   "file_extension": ".py",
   "mimetype": "text/x-python",
   "name": "python",
   "nbconvert_exporter": "python",
   "pygments_lexer": "ipython3",
   "version": "3.11.5"
  }
 },
 "nbformat": 4,
 "nbformat_minor": 5
}
