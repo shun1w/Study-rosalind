{
 "cells": [
  {
   "cell_type": "code",
   "execution_count": 1,
   "id": "69b1cc87-3cba-4ffe-8016-fe31c77a1fe0",
   "metadata": {
    "tags": []
   },
   "outputs": [],
   "source": [
    "import numpy as np\n",
    "from Bio import SeqIO\n",
    "import re"
   ]
  },
  {
   "cell_type": "markdown",
   "id": "ba5f9d2e-1638-482a-8586-4f947877f651",
   "metadata": {},
   "source": [
    "## RNA Splicing"
   ]
  },
  {
   "cell_type": "code",
   "execution_count": 35,
   "id": "44744316-e627-4021-8f7a-3cfa1efbcd0f",
   "metadata": {
    "tags": []
   },
   "outputs": [],
   "source": [
    "records = SeqIO.parse('./data/test/rosalind_rna_splicing.txt','fasta')\n",
    "sequences = []\n",
    "for rec in records:\n",
    "    sequences.append(rec.seq)"
   ]
  },
  {
   "cell_type": "code",
   "execution_count": 36,
   "id": "c6b9360f-f19e-4b48-87da-d67751eda492",
   "metadata": {
    "tags": []
   },
   "outputs": [
    {
     "data": {
      "text/plain": [
       "[Seq('ATGGTCTACATAGCTGACAAACAGCACGTAGCAATCGGTCGAATCTCGAGAGGC...TAG'),\n",
       " Seq('ATCGGTCGAA'),\n",
       " Seq('ATCGGTCGAGCGTGT')]"
      ]
     },
     "execution_count": 36,
     "metadata": {},
     "output_type": "execute_result"
    }
   ],
   "source": [
    "sequences"
   ]
  },
  {
   "cell_type": "code",
   "execution_count": 4,
   "id": "f8475380-8dd0-4605-8be8-0a2c25e5d711",
   "metadata": {
    "tags": []
   },
   "outputs": [],
   "source": [
    "codon_dict ={\n",
    "    'UUU': 'F', 'CUU': 'L', 'AUU': 'I', 'GUU': 'V',\n",
    "    'UUC': 'F', 'CUC': 'L', 'AUC': 'I', 'GUC': 'V',\n",
    "    'UUA': 'L', 'CUA': 'L', 'AUA': 'I', 'GUA': 'V',\n",
    "    'UUG': 'L', 'CUG': 'L', 'AUG': 'M', 'GUG': 'V',\n",
    "    'UCU': 'S', 'CCU': 'P', 'ACU': 'T', 'GCU': 'A',\n",
    "    'UCC': 'S', 'CCC': 'P', 'ACC': 'T', 'GCC': 'A',\n",
    "    'UCA': 'S', 'CCA': 'P', 'ACA': 'T', 'GCA': 'A',\n",
    "    'UCG': 'S', 'CCG': 'P', 'ACG': 'T', 'GCG': 'A',\n",
    "    'UAU': 'Y', 'CAU': 'H', 'AAU': 'N', 'GAU': 'D',\n",
    "    'UAC': 'Y', 'CAC': 'H', 'AAC': 'N', 'GAC': 'D',\n",
    "    'UAA': 'Stop', 'CAA': 'Q', 'AAA': 'K', 'GAA': 'E',\n",
    "    'UAG': 'Stop', 'CAG': 'Q', 'AAG': 'K', 'GAG': 'E',\n",
    "    'UGU': 'C', 'CGU': 'R', 'AGU': 'S', 'GGU': 'G',\n",
    "    'UGC': 'C', 'CGC': 'R', 'AGC': 'S', 'GGC': 'G',\n",
    "    'UGA': 'Stop', 'CGA': 'R', 'AGA': 'R', 'GGA': 'G',\n",
    "    'UGG': 'W', 'CGG': 'R', 'AGG': 'R', 'GGG': 'G'\n",
    "}\n"
   ]
  },
  {
   "cell_type": "code",
   "execution_count": 50,
   "id": "f796f9bf-1f7f-4533-9c04-34f1165728bb",
   "metadata": {
    "tags": []
   },
   "outputs": [],
   "source": [
    "dna = sequences[0]\n",
    "subs = sequences[1:]"
   ]
  },
  {
   "cell_type": "code",
   "execution_count": 51,
   "id": "8fce9929-7c81-4345-ab4f-8624a1b43f8c",
   "metadata": {
    "tags": []
   },
   "outputs": [
    {
     "data": {
      "text/plain": [
       "[Seq('ATCGGTCGAA'), Seq('ATCGGTCGAGCGTGT')]"
      ]
     },
     "execution_count": 51,
     "metadata": {},
     "output_type": "execute_result"
    }
   ],
   "source": [
    "subs"
   ]
  },
  {
   "cell_type": "code",
   "execution_count": 56,
   "id": "bfb8f613-b2d4-4253-a111-7829d7a1f098",
   "metadata": {
    "tags": []
   },
   "outputs": [
    {
     "name": "stdout",
     "output_type": "stream",
     "text": [
      "ATGGTCTACATAGCTGACAAACAGCACGTAGCAATCGGTCGAATCTCGAGAGGCATATGGTCACATGATCGGTCGAGCGTGTTTCAAAGTTTGCGCCTAG\n",
      "ATCGGTCGAA\n",
      "ATGGTCTACATAGCTGACAAACAGCACGTAGCATCTCGAGAGGCATATGGTCACATGATCGGTCGAGCGTGTTTCAAAGTTTGCGCCTAG\n",
      "ATCGGTCGAGCGTGT\n",
      "ATGGTCTACATAGCTGACAAACAGCACGTAGCATCTCGAGAGGCATATGGTCACATGTTCAAAGTTTGCGCCTAG\n"
     ]
    }
   ],
   "source": [
    "print(dna)\n",
    "for i in subs:\n",
    "    print(i)\n",
    "    dna = dna.replace(i,'')\n",
    "    print(dna)"
   ]
  },
  {
   "cell_type": "code",
   "execution_count": 57,
   "id": "0805806e-dde7-4720-8d9c-6c66de914492",
   "metadata": {
    "tags": []
   },
   "outputs": [
    {
     "data": {
      "text/plain": [
       "Seq('MVYIADKQHVASREAYGHMFKVCA')"
      ]
     },
     "execution_count": 57,
     "metadata": {},
     "output_type": "execute_result"
    }
   ],
   "source": [
    "dna.translate(to_stop=True)"
   ]
  },
  {
   "cell_type": "markdown",
   "id": "ae083fe5-9acc-4ec4-83cf-af10499d5513",
   "metadata": {},
   "source": [
    "### apply to data "
   ]
  },
  {
   "cell_type": "code",
   "execution_count": 60,
   "id": "b4583ebf-68e8-49be-8341-07eb17c86481",
   "metadata": {
    "tags": []
   },
   "outputs": [
    {
     "data": {
      "text/plain": [
       "'MSQHTIQWGTGRPPTQYSGVEPPHHMARRVSCAPTRTLGHIRRSSFFILHKLATSLGNVRRNIQVRVPGSRRLHFMRLIVNRLVLVYVRDFITCNNGKSMHAPPIPESQFTLQVELLVLRREELGARCRLELSILDHRHVSYYLDGTPAPALNNVTSWCGESARRHYDARCTRFFPRFYLY'"
      ]
     },
     "execution_count": 60,
     "metadata": {},
     "output_type": "execute_result"
    }
   ],
   "source": [
    "records = SeqIO.parse('./data/rosalind_splc.txt','fasta')\n",
    "sequences = []\n",
    "for rec in records:\n",
    "    sequences.append(rec.seq)\n",
    "dna = sequences[0]\n",
    "subs = sequences[1:]\n",
    "\n",
    "for i in subs:\n",
    "    dna = dna.replace(i,'')\n",
    "str(dna.translate(to_stop=True))"
   ]
  },
  {
   "cell_type": "markdown",
   "id": "6d46f2c3-5744-4f34-8090-b229aa20eeab",
   "metadata": {},
   "source": [
    "## Enumerating k-mers Lexicographically"
   ]
  },
  {
   "cell_type": "code",
   "execution_count": 27,
   "id": "def33b6f-0a7a-4586-9f0e-9299706c986a",
   "metadata": {
    "tags": []
   },
   "outputs": [],
   "source": [
    "from itertools import permutations,product"
   ]
  },
  {
   "cell_type": "code",
   "execution_count": 29,
   "id": "eceb2a0b-d610-4617-a34a-34be5eefcdb3",
   "metadata": {
    "tags": []
   },
   "outputs": [],
   "source": [
    "lis = sorted(['A','T','C','G' ])"
   ]
  },
  {
   "cell_type": "code",
   "execution_count": 35,
   "id": "f4eff2c4-32b7-447f-9546-ac145696a815",
   "metadata": {
    "tags": []
   },
   "outputs": [
    {
     "name": "stdout",
     "output_type": "stream",
     "text": [
      "AA\n",
      "AC\n",
      "AG\n",
      "AT\n",
      "CA\n",
      "CC\n",
      "CG\n",
      "CT\n",
      "GA\n",
      "GC\n",
      "GG\n",
      "GT\n",
      "TA\n",
      "TC\n",
      "TG\n",
      "TT\n"
     ]
    }
   ],
   "source": [
    "for aa in product(lis,repeat =2):\n",
    "    print(''.join(aa))"
   ]
  },
  {
   "cell_type": "markdown",
   "id": "9581ee2e-89b9-42bf-8c54-b3ca9b95ce3a",
   "metadata": {
    "tags": []
   },
   "source": [
    "### apply to data"
   ]
  },
  {
   "cell_type": "code",
   "execution_count": 36,
   "id": "daff3e73-8320-46e5-b199-d65a06a2b6ed",
   "metadata": {
    "tags": []
   },
   "outputs": [
    {
     "name": "stdout",
     "output_type": "stream",
     "text": [
      "A B C D E F G H\n",
      "3\n",
      "\n"
     ]
    }
   ],
   "source": [
    "lis=[]\n",
    "with open('./data/rosalind_lexf.txt') as f:\n",
    "    lines = f.read()\n",
    "    for l in lines.split(\"\\n\"):\n",
    "        print(l)"
   ]
  },
  {
   "cell_type": "code",
   "execution_count": 42,
   "id": "fb53a4d5-707b-4313-b17e-b3f166448dc7",
   "metadata": {
    "tags": []
   },
   "outputs": [
    {
     "name": "stdout",
     "output_type": "stream",
     "text": [
      "AAA\n",
      "AAB\n",
      "AAC\n",
      "AAD\n",
      "AAE\n",
      "AAF\n",
      "AAG\n",
      "AAH\n",
      "ABA\n",
      "ABB\n",
      "ABC\n",
      "ABD\n",
      "ABE\n",
      "ABF\n",
      "ABG\n",
      "ABH\n",
      "ACA\n",
      "ACB\n",
      "ACC\n",
      "ACD\n",
      "ACE\n",
      "ACF\n",
      "ACG\n",
      "ACH\n",
      "ADA\n",
      "ADB\n",
      "ADC\n",
      "ADD\n",
      "ADE\n",
      "ADF\n",
      "ADG\n",
      "ADH\n",
      "AEA\n",
      "AEB\n",
      "AEC\n",
      "AED\n",
      "AEE\n",
      "AEF\n",
      "AEG\n",
      "AEH\n",
      "AFA\n",
      "AFB\n",
      "AFC\n",
      "AFD\n",
      "AFE\n",
      "AFF\n",
      "AFG\n",
      "AFH\n",
      "AGA\n",
      "AGB\n",
      "AGC\n",
      "AGD\n",
      "AGE\n",
      "AGF\n",
      "AGG\n",
      "AGH\n",
      "AHA\n",
      "AHB\n",
      "AHC\n",
      "AHD\n",
      "AHE\n",
      "AHF\n",
      "AHG\n",
      "AHH\n",
      "BAA\n",
      "BAB\n",
      "BAC\n",
      "BAD\n",
      "BAE\n",
      "BAF\n",
      "BAG\n",
      "BAH\n",
      "BBA\n",
      "BBB\n",
      "BBC\n",
      "BBD\n",
      "BBE\n",
      "BBF\n",
      "BBG\n",
      "BBH\n",
      "BCA\n",
      "BCB\n",
      "BCC\n",
      "BCD\n",
      "BCE\n",
      "BCF\n",
      "BCG\n",
      "BCH\n",
      "BDA\n",
      "BDB\n",
      "BDC\n",
      "BDD\n",
      "BDE\n",
      "BDF\n",
      "BDG\n",
      "BDH\n",
      "BEA\n",
      "BEB\n",
      "BEC\n",
      "BED\n",
      "BEE\n",
      "BEF\n",
      "BEG\n",
      "BEH\n",
      "BFA\n",
      "BFB\n",
      "BFC\n",
      "BFD\n",
      "BFE\n",
      "BFF\n",
      "BFG\n",
      "BFH\n",
      "BGA\n",
      "BGB\n",
      "BGC\n",
      "BGD\n",
      "BGE\n",
      "BGF\n",
      "BGG\n",
      "BGH\n",
      "BHA\n",
      "BHB\n",
      "BHC\n",
      "BHD\n",
      "BHE\n",
      "BHF\n",
      "BHG\n",
      "BHH\n",
      "CAA\n",
      "CAB\n",
      "CAC\n",
      "CAD\n",
      "CAE\n",
      "CAF\n",
      "CAG\n",
      "CAH\n",
      "CBA\n",
      "CBB\n",
      "CBC\n",
      "CBD\n",
      "CBE\n",
      "CBF\n",
      "CBG\n",
      "CBH\n",
      "CCA\n",
      "CCB\n",
      "CCC\n",
      "CCD\n",
      "CCE\n",
      "CCF\n",
      "CCG\n",
      "CCH\n",
      "CDA\n",
      "CDB\n",
      "CDC\n",
      "CDD\n",
      "CDE\n",
      "CDF\n",
      "CDG\n",
      "CDH\n",
      "CEA\n",
      "CEB\n",
      "CEC\n",
      "CED\n",
      "CEE\n",
      "CEF\n",
      "CEG\n",
      "CEH\n",
      "CFA\n",
      "CFB\n",
      "CFC\n",
      "CFD\n",
      "CFE\n",
      "CFF\n",
      "CFG\n",
      "CFH\n",
      "CGA\n",
      "CGB\n",
      "CGC\n",
      "CGD\n",
      "CGE\n",
      "CGF\n",
      "CGG\n",
      "CGH\n",
      "CHA\n",
      "CHB\n",
      "CHC\n",
      "CHD\n",
      "CHE\n",
      "CHF\n",
      "CHG\n",
      "CHH\n",
      "DAA\n",
      "DAB\n",
      "DAC\n",
      "DAD\n",
      "DAE\n",
      "DAF\n",
      "DAG\n",
      "DAH\n",
      "DBA\n",
      "DBB\n",
      "DBC\n",
      "DBD\n",
      "DBE\n",
      "DBF\n",
      "DBG\n",
      "DBH\n",
      "DCA\n",
      "DCB\n",
      "DCC\n",
      "DCD\n",
      "DCE\n",
      "DCF\n",
      "DCG\n",
      "DCH\n",
      "DDA\n",
      "DDB\n",
      "DDC\n",
      "DDD\n",
      "DDE\n",
      "DDF\n",
      "DDG\n",
      "DDH\n",
      "DEA\n",
      "DEB\n",
      "DEC\n",
      "DED\n",
      "DEE\n",
      "DEF\n",
      "DEG\n",
      "DEH\n",
      "DFA\n",
      "DFB\n",
      "DFC\n",
      "DFD\n",
      "DFE\n",
      "DFF\n",
      "DFG\n",
      "DFH\n",
      "DGA\n",
      "DGB\n",
      "DGC\n",
      "DGD\n",
      "DGE\n",
      "DGF\n",
      "DGG\n",
      "DGH\n",
      "DHA\n",
      "DHB\n",
      "DHC\n",
      "DHD\n",
      "DHE\n",
      "DHF\n",
      "DHG\n",
      "DHH\n",
      "EAA\n",
      "EAB\n",
      "EAC\n",
      "EAD\n",
      "EAE\n",
      "EAF\n",
      "EAG\n",
      "EAH\n",
      "EBA\n",
      "EBB\n",
      "EBC\n",
      "EBD\n",
      "EBE\n",
      "EBF\n",
      "EBG\n",
      "EBH\n",
      "ECA\n",
      "ECB\n",
      "ECC\n",
      "ECD\n",
      "ECE\n",
      "ECF\n",
      "ECG\n",
      "ECH\n",
      "EDA\n",
      "EDB\n",
      "EDC\n",
      "EDD\n",
      "EDE\n",
      "EDF\n",
      "EDG\n",
      "EDH\n",
      "EEA\n",
      "EEB\n",
      "EEC\n",
      "EED\n",
      "EEE\n",
      "EEF\n",
      "EEG\n",
      "EEH\n",
      "EFA\n",
      "EFB\n",
      "EFC\n",
      "EFD\n",
      "EFE\n",
      "EFF\n",
      "EFG\n",
      "EFH\n",
      "EGA\n",
      "EGB\n",
      "EGC\n",
      "EGD\n",
      "EGE\n",
      "EGF\n",
      "EGG\n",
      "EGH\n",
      "EHA\n",
      "EHB\n",
      "EHC\n",
      "EHD\n",
      "EHE\n",
      "EHF\n",
      "EHG\n",
      "EHH\n",
      "FAA\n",
      "FAB\n",
      "FAC\n",
      "FAD\n",
      "FAE\n",
      "FAF\n",
      "FAG\n",
      "FAH\n",
      "FBA\n",
      "FBB\n",
      "FBC\n",
      "FBD\n",
      "FBE\n",
      "FBF\n",
      "FBG\n",
      "FBH\n",
      "FCA\n",
      "FCB\n",
      "FCC\n",
      "FCD\n",
      "FCE\n",
      "FCF\n",
      "FCG\n",
      "FCH\n",
      "FDA\n",
      "FDB\n",
      "FDC\n",
      "FDD\n",
      "FDE\n",
      "FDF\n",
      "FDG\n",
      "FDH\n",
      "FEA\n",
      "FEB\n",
      "FEC\n",
      "FED\n",
      "FEE\n",
      "FEF\n",
      "FEG\n",
      "FEH\n",
      "FFA\n",
      "FFB\n",
      "FFC\n",
      "FFD\n",
      "FFE\n",
      "FFF\n",
      "FFG\n",
      "FFH\n",
      "FGA\n",
      "FGB\n",
      "FGC\n",
      "FGD\n",
      "FGE\n",
      "FGF\n",
      "FGG\n",
      "FGH\n",
      "FHA\n",
      "FHB\n",
      "FHC\n",
      "FHD\n",
      "FHE\n",
      "FHF\n",
      "FHG\n",
      "FHH\n",
      "GAA\n",
      "GAB\n",
      "GAC\n",
      "GAD\n",
      "GAE\n",
      "GAF\n",
      "GAG\n",
      "GAH\n",
      "GBA\n",
      "GBB\n",
      "GBC\n",
      "GBD\n",
      "GBE\n",
      "GBF\n",
      "GBG\n",
      "GBH\n",
      "GCA\n",
      "GCB\n",
      "GCC\n",
      "GCD\n",
      "GCE\n",
      "GCF\n",
      "GCG\n",
      "GCH\n",
      "GDA\n",
      "GDB\n",
      "GDC\n",
      "GDD\n",
      "GDE\n",
      "GDF\n",
      "GDG\n",
      "GDH\n",
      "GEA\n",
      "GEB\n",
      "GEC\n",
      "GED\n",
      "GEE\n",
      "GEF\n",
      "GEG\n",
      "GEH\n",
      "GFA\n",
      "GFB\n",
      "GFC\n",
      "GFD\n",
      "GFE\n",
      "GFF\n",
      "GFG\n",
      "GFH\n",
      "GGA\n",
      "GGB\n",
      "GGC\n",
      "GGD\n",
      "GGE\n",
      "GGF\n",
      "GGG\n",
      "GGH\n",
      "GHA\n",
      "GHB\n",
      "GHC\n",
      "GHD\n",
      "GHE\n",
      "GHF\n",
      "GHG\n",
      "GHH\n",
      "HAA\n",
      "HAB\n",
      "HAC\n",
      "HAD\n",
      "HAE\n",
      "HAF\n",
      "HAG\n",
      "HAH\n",
      "HBA\n",
      "HBB\n",
      "HBC\n",
      "HBD\n",
      "HBE\n",
      "HBF\n",
      "HBG\n",
      "HBH\n",
      "HCA\n",
      "HCB\n",
      "HCC\n",
      "HCD\n",
      "HCE\n",
      "HCF\n",
      "HCG\n",
      "HCH\n",
      "HDA\n",
      "HDB\n",
      "HDC\n",
      "HDD\n",
      "HDE\n",
      "HDF\n",
      "HDG\n",
      "HDH\n",
      "HEA\n",
      "HEB\n",
      "HEC\n",
      "HED\n",
      "HEE\n",
      "HEF\n",
      "HEG\n",
      "HEH\n",
      "HFA\n",
      "HFB\n",
      "HFC\n",
      "HFD\n",
      "HFE\n",
      "HFF\n",
      "HFG\n",
      "HFH\n",
      "HGA\n",
      "HGB\n",
      "HGC\n",
      "HGD\n",
      "HGE\n",
      "HGF\n",
      "HGG\n",
      "HGH\n",
      "HHA\n",
      "HHB\n",
      "HHC\n",
      "HHD\n",
      "HHE\n",
      "HHF\n",
      "HHG\n",
      "HHH\n"
     ]
    }
   ],
   "source": [
    "lis = sorted(['A','B','C','D','E','F','G','H'])\n",
    "for aa in product(lis,repeat = 3):\n",
    "    print(''.join(aa))"
   ]
  },
  {
   "cell_type": "markdown",
   "id": "b8821cb3-6b60-43f7-82fa-b55fce8b3053",
   "metadata": {},
   "source": [
    "## Longest Increasing Subsequence"
   ]
  },
  {
   "cell_type": "code",
   "execution_count": 48,
   "id": "3c46ca0a-2818-4888-882a-a8743f120bcc",
   "metadata": {
    "tags": []
   },
   "outputs": [],
   "source": [
    "nums = '51432'"
   ]
  },
  {
   "cell_type": "code",
   "execution_count": 61,
   "id": "453e00a6-62c1-45d4-87aa-be114ccebaec",
   "metadata": {
    "tags": []
   },
   "outputs": [
    {
     "ename": "IndexError",
     "evalue": "string index out of range",
     "output_type": "error",
     "traceback": [
      "\u001b[0;31m---------------------------------------------------------------------------\u001b[0m",
      "\u001b[0;31mIndexError\u001b[0m                                Traceback (most recent call last)",
      "Cell \u001b[0;32mIn[61], line 11\u001b[0m\n\u001b[1;32m      9\u001b[0m \u001b[38;5;28;01mfor\u001b[39;00m i \u001b[38;5;129;01min\u001b[39;00m permutations(nums,n):\n\u001b[1;32m     10\u001b[0m     num \u001b[38;5;241m=\u001b[39m \u001b[38;5;124m'\u001b[39m\u001b[38;5;124m'\u001b[39m\u001b[38;5;241m.\u001b[39mjoin(i)\n\u001b[0;32m---> 11\u001b[0m     \u001b[38;5;28;01mif\u001b[39;00m num[\u001b[38;5;241m0\u001b[39m] \u001b[38;5;241m==\u001b[39m start:\n\u001b[1;32m     12\u001b[0m         decre_candi\u001b[38;5;241m.\u001b[39mappend(\u001b[38;5;124m'\u001b[39m\u001b[38;5;124m'\u001b[39m\u001b[38;5;241m.\u001b[39mjoin(num))\n\u001b[1;32m     13\u001b[0m     \u001b[38;5;28;01melse\u001b[39;00m:\n",
      "\u001b[0;31mIndexError\u001b[0m: string index out of range"
     ]
    }
   ],
   "source": [
    "elements = []\n",
    "for i in nums:\n",
    "    elements.append(i)\n",
    "# find decresing\n",
    "## start with max elements\n",
    "decre_candi = []\n",
    "start = nums[np.argmax(elements)]\n",
    "for n in range(len(nums)) :\n",
    "    for i in permutations(nums,n):\n",
    "        num = ''.join(i)\n",
    "        if num[0] == start:\n",
    "            decre_candi.append(''.join(num))\n",
    "        else:\n",
    "            continue"
   ]
  },
  {
   "cell_type": "code",
   "execution_count": 53,
   "id": "e951bbff-bfbf-44c0-8feb-3f57d198c090",
   "metadata": {
    "tags": []
   },
   "outputs": [
    {
     "data": {
      "text/plain": [
       "'5'"
      ]
     },
     "execution_count": 53,
     "metadata": {},
     "output_type": "execute_result"
    }
   ],
   "source": [
    "max(elements)"
   ]
  },
  {
   "cell_type": "code",
   "execution_count": 57,
   "id": "94e62da3-5eaf-4001-adc3-97d48b0aa190",
   "metadata": {
    "tags": []
   },
   "outputs": [
    {
     "data": {
      "text/plain": [
       "'5'"
      ]
     },
     "execution_count": 57,
     "metadata": {},
     "output_type": "execute_result"
    }
   ],
   "source": []
  },
  {
   "cell_type": "code",
   "execution_count": null,
   "id": "f8c65842-c920-4dd1-b16f-2849e01b0610",
   "metadata": {},
   "outputs": [],
   "source": []
  }
 ],
 "metadata": {
  "kernelspec": {
   "display_name": "Python 3 (ipykernel)",
   "language": "python",
   "name": "python3"
  },
  "language_info": {
   "codemirror_mode": {
    "name": "ipython",
    "version": 3
   },
   "file_extension": ".py",
   "mimetype": "text/x-python",
   "name": "python",
   "nbconvert_exporter": "python",
   "pygments_lexer": "ipython3",
   "version": "3.11.5"
  }
 },
 "nbformat": 4,
 "nbformat_minor": 5
}
