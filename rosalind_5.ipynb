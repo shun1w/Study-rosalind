{
 "cells": [
  {
   "cell_type": "code",
   "execution_count": 6,
   "id": "cee5e907-5e80-4843-a9f9-36b926861ce5",
   "metadata": {},
   "outputs": [],
   "source": [
    "import numpy as np\n",
    "from Bio import SeqIO\n",
    "import re\n",
    "import networkx as nx\n",
    "from itertools import combinations"
   ]
  },
  {
   "cell_type": "markdown",
   "id": "4e57ad9a-a216-4d3e-b8ba-ffd129b28e8a",
   "metadata": {},
   "source": [
    "## Perfect Matchings and RNA Secondary Structures"
   ]
  },
  {
   "cell_type": "code",
   "execution_count": 9,
   "id": "aab8f466-54a4-4463-9d7c-ab501141e5b0",
   "metadata": {},
   "outputs": [],
   "source": [
    "records = SeqIO.parse('./data/test/rosalind_match_rna.txt','fasta')\n",
    "sequences = []\n",
    "for rec in records:\n",
    "    sequences.append(rec.seq)"
   ]
  },
  {
   "cell_type": "code",
   "execution_count": 15,
   "id": "785412e7-4631-4b30-9440-853fce3efa88",
   "metadata": {},
   "outputs": [
    {
     "data": {
      "text/plain": [
       "'AGCUAGUCAU'"
      ]
     },
     "execution_count": 15,
     "metadata": {},
     "output_type": "execute_result"
    }
   ],
   "source": [
    "str(sequences[0])"
   ]
  },
  {
   "cell_type": "code",
   "execution_count": 51,
   "id": "0cb3e750-913e-41a6-a10b-738ea5d8814c",
   "metadata": {},
   "outputs": [],
   "source": [
    "g = nx.Graph()"
   ]
  },
  {
   "cell_type": "code",
   "execution_count": 52,
   "id": "23c6af8a-1ac0-4a84-a3f9-ab0afb3a114d",
   "metadata": {},
   "outputs": [],
   "source": [
    "edges=[]\n",
    "for i in combinations(str(sequences[0]),2):\n",
    "    oks = [('A','U'),('U','A'),('C','G'),('G','C')]\n",
    "    if i in oks:\n",
    "        continue\n",
    "    else:\n",
    "        edges.append(i)"
   ]
  },
  {
   "cell_type": "code",
   "execution_count": 46,
   "id": "1ef7c7ff-a641-4b81-9ba7-13cac69d936f",
   "metadata": {},
   "outputs": [
    {
     "data": {
      "text/plain": [
       "['A', 'G', 'C', 'U', 'A', 'G', 'U', 'C', 'A', 'U']"
      ]
     },
     "execution_count": 46,
     "metadata": {},
     "output_type": "execute_result"
    }
   ],
   "source": [
    "[i for i in str(sequences[0])]"
   ]
  },
  {
   "cell_type": "code",
   "execution_count": 49,
   "id": "d97ddd12-0c69-46ae-800f-584bd81d2102",
   "metadata": {},
   "outputs": [
    {
     "data": {
      "text/plain": [
       "[2, 3, 2, 3]"
      ]
     },
     "execution_count": 49,
     "metadata": {},
     "output_type": "execute_result"
    }
   ],
   "source": [
    "g.add_nodes_from([i for i in str(sequences[0])])\n",
    "g.add_edges_from(oks)"
   ]
  },
  {
   "cell_type": "code",
   "execution_count": 50,
   "id": "525c7db8-bb94-4272-88d3-68bb326936e0",
   "metadata": {},
   "outputs": [
    {
     "data": {
      "image/png": "[encoded data removed]",
      "text/plain": [
       "<Figure size 640x480 with 1 Axes>"
      ]
     },
     "metadata": {},
     "output_type": "display_data"
    }
   ],
   "source": [
    "nx.draw(g)"
   ]
  },
  {
   "cell_type": "code",
   "execution_count": null,
   "id": "ac550bf7-76b2-4e6f-bc34-fc08013f7646",
   "metadata": {},
   "outputs": [],
   "source": []
  }
 ],
 "metadata": {
  "kernelspec": {
   "display_name": "Python 3 (ipykernel)",
   "language": "python",
   "name": "python3"
  },
  "language_info": {
   "codemirror_mode": {
    "name": "ipython",
    "version": 3
   },
   "file_extension": ".py",
   "mimetype": "text/x-python",
   "name": "python",
   "nbconvert_exporter": "python",
   "pygments_lexer": "ipython3",
   "version": "3.11.8"
  }
 },
 "nbformat": 4,
 "nbformat_minor": 5
}
